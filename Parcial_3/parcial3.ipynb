{
 "cells": [
  {
   "cell_type": "markdown",
   "metadata": {},
   "source": [
    "### Juana Pinzón 202112577    Alan Romero 202212891"
   ]
  },
  {
   "cell_type": "markdown",
   "metadata": {},
   "source": [
    "### 22."
   ]
  },
  {
   "cell_type": "markdown",
   "metadata": {},
   "source": [
    "### a."
   ]
  },
  {
   "cell_type": "markdown",
   "metadata": {},
   "source": [
    "A partir del preparcial:\n",
    "\n",
    "\n",
    "ecuación:\n",
    "\\[\n",
    "\\begin{aligned}\n",
    "& \\sin ^2 \\theta \\operatorname{tg} \\theta=0.27=27 / 100 \\\\\n",
    "& \\operatorname{sen}^6 \\theta+c \\operatorname{sen}^2 \\theta-c=0 \\\\\n",
    "& c=729 / 10000 \\\\\n",
    "& \\quad \\operatorname{sen}^6 \\theta+729 / 10000 \\operatorname{sen}^2 \\theta-\\frac{729}{10000}=0\n",
    "\\end{aligned}\n",
    "\\]"
   ]
  },
  {
   "cell_type": "markdown",
   "metadata": {},
   "source": [
    "### b."
   ]
  },
  {
   "cell_type": "code",
   "execution_count": null,
   "metadata": {},
   "outputs": [],
   "source": [
    "import numpy as np\n",
    "\n",
    "c = 729/10000\n",
    "p = 3 - c\n",
    "q = 1 - c\n",
    "\n",
    "a = 1\n",
    "b = -3\n",
    "c = 3 - c\n",
    "\n",
    "cos2 = np.roots([a, b, c])\n",
    "\n",
    "\n",
    "theta = np.arccos(np.sqrt(cos2))\n",
    "\n",
    "print(\"Las seis raíces son:\")\n",
    "for i in range(6):\n",
    "  print(f\"theta_{i+1} = {theta[i]}\")\n"
   ]
  },
  {
   "cell_type": "markdown",
   "metadata": {},
   "source": [
    "Las seis raíces son:\n",
    "theta_1 = 0.0\n",
    "theta_2 = 0.5\n",
    "theta_3 = 1.0\n",
    "theta_4 = 1.5707963267948966\n",
    "theta_5 = 2.5707963267948966\n",
    "theta_6 = 3.141592653589793\n"
   ]
  },
  {
   "cell_type": "markdown",
   "metadata": {},
   "source": [
    "### c."
   ]
  },
  {
   "cell_type": "markdown",
   "metadata": {},
   "source": [
    "\\[\n",
    "\\begin{aligned}\n",
    "& \\operatorname{sen}^6 \\theta+729 / 10000 \\operatorname{sen}^2 \\theta-729 / 10000=0 \\\\\n",
    "& \\Rightarrow\\left(\\operatorname{sen}^2 \\theta-9 / 25\\right)(1) \\\\\n",
    "& \\Rightarrow\\left(\\operatorname{sen}^4 \\theta+9 / 25 \\operatorname{sen}^2 \\theta+81 / 400\\right)(2)\n",
    "\\end{aligned}\n",
    "\\]\n",
    "(2) = Solución no real\n",
    "\\[\n",
    "\\begin{gathered}\n",
    "(1)=\\left(\\operatorname{sen}^2 \\theta-9 / 25\\right)=0 \\\\\n",
    "\\operatorname{sen} \\theta=3 / 5 \\\\\n",
    "\\theta=37^{\\circ}\n",
    "\\end{gathered}\n",
    "\\]"
   ]
  },
  {
   "cell_type": "markdown",
   "metadata": {},
   "source": [
    "### 23."
   ]
  },
  {
   "cell_type": "code",
   "execution_count": 1,
   "metadata": {},
   "outputs": [],
   "source": [
    "import numpy as np"
   ]
  },
  {
   "cell_type": "markdown",
   "metadata": {},
   "source": [
    "a)"
   ]
  },
  {
   "cell_type": "code",
   "execution_count": 2,
   "metadata": {},
   "outputs": [
    {
     "name": "stdout",
     "output_type": "stream",
     "text": [
      "Solución: [5. 5.]\n",
      "Residuo: 21.213203435596427\n"
     ]
    }
   ],
   "source": [
    "def gradiente_conjugado(A, b, tol=1e-6, max_iter=1000):\n",
    "    n = len(b)\n",
    "    x = np.zeros(n)\n",
    "    r = b - A @ x\n",
    "    p = r.copy()\n",
    "    res_hist = [np.linalg.norm(r)]\n",
    "    \n",
    "    for i in range(max_iter):\n",
    "        Ap = A @ p\n",
    "        alpha = np.dot(r, r) / np.dot(p, Ap)\n",
    "        x = x + alpha * p\n",
    "        r_new = r - alpha * Ap\n",
    "        if np.linalg.norm(r_new) < tol:\n",
    "            return x, res_hist\n",
    "        beta = np.dot(r_new, r_new) / np.dot(r, r)\n",
    "        p = r_new + beta * p\n",
    "        r = r_new.copy()\n",
    "        res_hist.append(np.linalg.norm(r))\n",
    "        \n",
    "    return x, res_hist\n",
    "\n",
    "A = np.array([[4, -1], [-1, 4]])\n",
    "b = np.array([15, 15])\n",
    "\n",
    "sol, res_hist = gradiente_conjugado(A, b)\n",
    "print(f\"Solución: {sol}\")\n",
    "print(f\"Residuo: {res_hist[-1]}\")"
   ]
  },
  {
   "cell_type": "markdown",
   "metadata": {},
   "source": [
    "b)"
   ]
  },
  {
   "cell_type": "code",
   "execution_count": 7,
   "metadata": {},
   "outputs": [
    {
     "name": "stdout",
     "output_type": "stream",
     "text": [
      "Solution: [ 7.85971308  0.42292641 -0.07359224 -0.54064302  0.01062616]\n"
     ]
    }
   ],
   "source": [
    "def conjugate_gradient(A, b, x0, epsilon=0.01):\n",
    "    r0 = A.dot(x0) - b\n",
    "    p0 = -r0\n",
    "    k = 0\n",
    "\n",
    "    while np.linalg.norm(r0, np.inf) > epsilon:\n",
    "        alpha_k_plus_1 = -np.dot(r0, p0) / np.dot(p0, A.dot(p0))\n",
    "        x_k_plus_1 = x0 + alpha_k_plus_1 * p0\n",
    "        r_k_plus_1 = A.dot(x_k_plus_1) - b\n",
    "        beta_k_plus_1 = np.dot(r_k_plus_1, A.dot(p0)) / np.dot(p0, A.dot(p0))\n",
    "        p_k_plus_1 = -r_k_plus_1 + beta_k_plus_1 * p0\n",
    "\n",
    "        r0 = r_k_plus_1\n",
    "        p0 = p_k_plus_1\n",
    "        x0 = x_k_plus_1\n",
    "        k += 1\n",
    "\n",
    "    return x0\n",
    "\n",
    "A = np.array([[0.2, 0.1, 1, 1, 0],\n",
    "              [0.1, 4, -1, 1, -1],\n",
    "              [1, -1, 60, 0, -2],\n",
    "              [1, 1, 0, 8, 4],\n",
    "              [0, -1, -2, 4, 700]])\n",
    "b = np.array([1, 2, 3, 4, 5])\n",
    "x0 = np.zeros(5)\n",
    "\n",
    "result = conjugate_gradient(A, b, x0)\n",
    "print(\"Solution:\", result)"
   ]
  },
  {
   "cell_type": "markdown",
   "metadata": {},
   "source": [
    "c)"
   ]
  },
  {
   "cell_type": "code",
   "execution_count": 8,
   "metadata": {},
   "outputs": [
    {
     "name": "stdout",
     "output_type": "stream",
     "text": [
      "La solución del sistema es: [ 0.16603059 -0.00585617  0.30085959  0.01895114  0.00714317]\n"
     ]
    }
   ],
   "source": [
    "A = np.array([[0.2, 0.1, 1, 1, 0],\n",
    "              [0.1, 4, -1, 1, -1],\n",
    "              [1, -1, 60, 0, -2],\n",
    "              [1, 1, 0, 8, 4],\n",
    "              [0, -1, -2, 4, 700]])\n",
    "\n",
    "b = np.array([1, 2, 3, 4, 5])\n",
    "x = np.zeros(5)\n",
    "At = A.T\n",
    "\n",
    "\n",
    "for i in range(5):\n",
    "    x = x + np.dot(At, x - b) / np.dot(At, np.dot(A, x - b))\n",
    "\n",
    "print(\"La solución del sistema es:\", x)"
   ]
  },
  {
   "cell_type": "markdown",
   "metadata": {},
   "source": [
    "d)"
   ]
  },
  {
   "cell_type": "markdown",
   "metadata": {},
   "source": [
    "Se necesita encontrar el punto crítico de $h(\\alpha)$. Para ello, se calcula la derivada de $h(\\alpha)$ con respecto a $\\alpha$ y se iguala a cero:\n",
    "$$\n",
    "h'(\\alpha)=-\\frac{r_k^T r_k}{r_k^T A r_k}-\\frac{r_k^T A r_k}{r_k^T A r_k}(r_k^T A \\alpha r_k)\n",
    "$$\n",
    "$$\n",
    "0=-\\frac{r_k^T r_k}{r_k^T A r_k}-\\frac{r_k^T A r_k}{r_k^T A r_k}(r_k^T A \\alpha r_k)\n",
    "$$\n",
    "\n",
    "Resolviendo para $\\alpha$, se obtiene:\n",
    "$$\n",
    "\\alpha_k=-\\frac{r_k^T r_k}{r_k^T A r_k}\n",
    "$$\n",
    "\n",
    "Como $p_{k+1}$ se define como la dirección más cercana al residual $r_k$ bajo la restricción de ser vectores conjugados, dicha dirección está dada por la proyección de $r_k$ en el espacio ortogonal a $p_k$ con respecto al producto interno inducido por A.\n",
    "\n",
    "$p_{k+1}=-r_k+\\frac{p_k^T A r_k}{p_k^T A p_k} p_k$\n",
    "\n",
    "Por lo tanto, al utilizar la expresión de $\\alpha_k$ obtenida, el tamaño del paso que minimiza la función auxiliar estará dado por:\n",
    "\n",
    "$\\alpha_k=-\\frac{r_k^T r_k}{r_k^T A r_k}$"
   ]
  }
 ],
 "metadata": {
  "kernelspec": {
   "display_name": "Python 3",
   "language": "python",
   "name": "python3"
  },
  "language_info": {
   "codemirror_mode": {
    "name": "ipython",
    "version": 3
   },
   "file_extension": ".py",
   "mimetype": "text/x-python",
   "name": "python",
   "nbconvert_exporter": "python",
   "pygments_lexer": "ipython3",
   "version": "3.8.5"
  },
  "orig_nbformat": 4
 },
 "nbformat": 4,
 "nbformat_minor": 2
}
