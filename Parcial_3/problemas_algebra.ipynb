{
 "cells": [
  {
   "cell_type": "markdown",
   "metadata": {},
   "source": [
    "### Juana Pinzón 202112577    Alan Romero 202212891"
   ]
  },
  {
   "cell_type": "markdown",
   "metadata": {},
   "source": [
    "## Problemas Parcial 3\n"
   ]
  },
  {
   "cell_type": "markdown",
   "metadata": {},
   "source": [
    "### Álgebra líneal"
   ]
  },
  {
   "cell_type": "markdown",
   "metadata": {},
   "source": [
    "\n",
    "### 1."
   ]
  },
  {
   "cell_type": "markdown",
   "metadata": {},
   "source": [
    "\\begin{aligned}\n",
    "& x_{n+1}=4 x_n-x_n^2 \\\\\n",
    "& x_0=4 \\sin ^2 \\theta \\rightarrow x_0=(2 \\sin \\theta)^2 \\\\\n",
    "& x_{0+1}=4 \\sin ^2 \\theta-4^2 \\sin ^2 \\theta \\\\\n",
    "& \\theta=[0, \\pi / 2]\n",
    "\\end{aligned}\n",
    " Usando identidades\n",
    "\\begin{aligned}\n",
    "& 4^2 \\sin ^2 \\theta \\frac{\\left(1-\\sin ^2 \\theta\\right)}{\\cos ^2 \\theta} \\\\\n",
    "= & 4 \\sin ^2(2 \\theta) \\rightarrow \\operatorname{Para} x_{n+1} \\operatorname{conduce} a: \\\\\n",
    "x_{n+1}= & 4 \\sin ^2\\left(2^{n+1} \\theta\\right)\n",
    "\\end{aligned}\n"
   ]
  },
  {
   "cell_type": "markdown",
   "metadata": {},
   "source": [
    "### 3.\n"
   ]
  },
  {
   "cell_type": "code",
   "execution_count": 9,
   "metadata": {},
   "outputs": [
    {
     "name": "stdout",
     "output_type": "stream",
     "text": [
      "El resultado de la multiplicacion entre las matrices es:\n",
      " [[ 4 -2  1]\n",
      " [20 -7 12]\n",
      " [-8 13 21]]\n"
     ]
    }
   ],
   "source": [
    "import numpy as np\n",
    "\n",
    "A = np.array([[1,0,0],[5,1,0],[-2,3,1]])\n",
    "B = np.array([[4,-2,1],[0,3,7],[0,0,2]])\n",
    "\n",
    "def Multiplicacion(A,B):\n",
    "    columna_matriz = []\n",
    "    for i in range(len(B)):\n",
    "        columna = []\n",
    "        for j in range(len(B)):\n",
    "            columna.append(B[j][i])\n",
    "        columna_matriz.append(columna)\n",
    "        \n",
    "    multiplicacion_matriz = []\n",
    "    for k in A:\n",
    "        nueva_matriz = []\n",
    "        for w in columna_matriz:\n",
    "            nueva_matriz.append(np.dot(k,w))\n",
    "        multiplicacion_matriz.append(nueva_matriz)\n",
    "\n",
    "    return np.array(multiplicacion_matriz)\n",
    "\n",
    "print(\"El resultado de la multiplicacion entre las matrices es:\\n {}\".format(Multiplicacion(A,B)))"
   ]
  },
  {
   "cell_type": "markdown",
   "metadata": {},
   "source": [
    "### 4."
   ]
  },
  {
   "cell_type": "markdown",
   "metadata": {},
   "source": [
    "\\begin{gathered}\n",
    "b_i=\\sum_{j=1}^i A_{i j} X_j \\\\\n",
    "b_i=L_{i i} X_i+\\sum_{j=0}^{i-1} A_{i j} X_j \\\\\n",
    "X_i=\\frac{b_i-\\sum_{j=0}^{i-1} A_{i j} X_j}{L_{i i}}\n",
    "\\end{gathered}"
   ]
  },
  {
   "cell_type": "markdown",
   "metadata": {},
   "source": [
    "### 5.\n"
   ]
  },
  {
   "cell_type": "markdown",
   "metadata": {},
   "source": [
    "\\begin{aligned}\n",
    "b_i & =\\sum_{j=1}^i A_{i j} X_j \\\\\n",
    "b_i & =L_{i i} X_i+\\sum_{i=j+1}^n A_{i j} X_j \\quad n=\\text { columnas } \\\\\n",
    "X_i & =\\frac{b_i-\\sum_{j=i+}^n A_{i j} X_j}{L_{i i}}\n",
    "\\end{aligned}"
   ]
  },
  {
   "cell_type": "markdown",
   "metadata": {},
   "source": [
    "### 6."
   ]
  },
  {
   "cell_type": "code",
   "execution_count": 13,
   "metadata": {},
   "outputs": [
    {
     "name": "stdout",
     "output_type": "stream",
     "text": [
      "La solución es: [1.50000115 1.49999984]\n",
      "La solución es: [12.90625  1.625  ]\n",
      "La solución es: [12.90625  1.625  ]\n",
      "La solución es: [12.90625  1.625  ]\n",
      "La solución es: [12.90625  1.625  ]\n",
      "La solución es: [12.90625  1.625  ]\n",
      "La solución es: [12.90625  1.625  ]\n",
      "La solución es: [12.90625  1.625  ]\n",
      "La solución es: [12.90625  1.625  ]\n",
      "La solución es: [12.90625  1.625  ]\n",
      "La solución es: [12.90625  1.625  ]\n",
      "La solución es: [12.90625  1.625  ]\n",
      "La solución es: [12.90625  1.625  ]\n",
      "La solución es: [12.90625  1.625  ]\n",
      "La solución es: [12.90625  1.625  ]\n",
      "La solución es: [12.90625  1.625  ]\n",
      "La solución es: [12.90625  1.625  ]\n",
      "La solución es: [12.90625  1.625  ]\n",
      "La solución es: [12.90625001  1.625     ]\n",
      "La solución es: [12.90625001  1.625     ]\n",
      "La solución es: [12.90625  1.625  ]\n",
      "La solución es: [12.90625001  1.625     ]\n",
      "La solución es: [12.90625  1.625  ]\n",
      "La solución es: [12.90625  1.625  ]\n",
      "La solución es: [12.90625001  1.625     ]\n",
      "La solución es: [12.90625  1.625  ]\n",
      "La solución es: [12.90625001  1.625     ]\n",
      "La solución es: [12.90625001  1.625     ]\n",
      "La solución es: [12.90624999  1.625     ]\n",
      "La solución es: [12.90624999  1.625     ]\n",
      "La solución es: [12.90625001  1.625     ]\n",
      "La solución es: [12.90624999  1.625     ]\n",
      "La solución es: [12.90624999  1.625     ]\n",
      "La solución es: [12.90624999  1.625     ]\n",
      "La solución es: [12.90624999  1.625     ]\n",
      "La solución es: [12.90624999  1.625     ]\n",
      "La solución es: [1.46956154e+21 5.79191789e+20]\n",
      "La solución es: [5.07665411e+52 2.07474439e+52]\n",
      "La solución es: [2.05680869e+82 8.69699322e+81]\n",
      "La solución es: [1.69425644e+110 7.39771675e+109]\n",
      "La solución es: [4.45912839e+136 2.00708142e+136]\n",
      "La solución es: [5.46214379e+161 2.53051732e+161]\n",
      "La solución es: [4.27339129e+185 2.03494823e+185]\n",
      "La solución es: [2.79436715e+208 1.36603041e+208]\n",
      "La solución es: [1.92322238e+230 9.64082692e+229]\n",
      "La solución es: [1.70032714e+251 8.73132256e+250]\n",
      "La solución es: [2.29660227e+271 1.20694809e+271]\n",
      "La solución es: [5.51614150e+290 2.96427761e+290]\n",
      "La solución es: [inf inf]\n",
      "La solución es: [inf inf]\n",
      "El parámetro de relajación óptimo es: 0.938775510210204\n",
      "La solución es: [12.90625  1.625  ]\n"
     ]
    },
    {
     "name": "stderr",
     "output_type": "stream",
     "text": [
      "<ipython-input-13-3fec40378824>:13: RuntimeWarning: overflow encountered in double_scalars\n",
      "  x[i] = (1 - omega)*x[i] + (omega/A[i, i])*(b[i] - sum)\n"
     ]
    }
   ],
   "source": [
    "import numpy as np\n",
    "\n",
    "def Sucesion_sobre_relajacion(A, x_init, b, omega, iteraciones = 1000, tolerancia = 1e-9):\n",
    "    x = x_init.copy()\n",
    "    diverge = None\n",
    "    it = 0\n",
    "    while it <= iteraciones:\n",
    "        for i in range(len(x_init)):\n",
    "            sum = 0\n",
    "            for j in range(len(x_init)):\n",
    "                if j != i:\n",
    "                    sum += A[i, j]*x[j]\n",
    "            x[i] = (1 - omega)*x[i] + (omega/A[i, i])*(b[i] - sum)\n",
    "        it += 1\n",
    "        \n",
    "        residuo = np.linalg.norm(np.dot(A,x) - b)\n",
    "        \n",
    "        if residuo > 1e+10:\n",
    "            diverge = True\n",
    "        else:\n",
    "            diverge = False\n",
    "        \n",
    "        if np.allclose(residuo,tolerancia,atol=tolerancia):\n",
    "            break\n",
    "        \n",
    "    print(f\"La solución es: {x}\")\n",
    "    return x, diverge, it\n",
    "\n",
    "# Definir A, b y x_init\n",
    "def J(x):\n",
    "    return np.array([[3*x[0]**2, -1], [1, 1]])\n",
    "\n",
    "def F(x):\n",
    "    return np.array([x[0]**3 - x[1], x[0] + x[1]**2 - 4])\n",
    "\n",
    "x_n = np.array([1.5, 1.5])\n",
    "A = np.linalg.inv(J(x_n))\n",
    "b = F(x_n)\n",
    "x_init = x_n.copy()\n",
    "\n",
    "omega_optimo = encontrar_omega_optimo(A, x_init, b)\n",
    "print(f\"El parámetro de relajación óptimo es: {omega_optimo}\")\n",
    "\n",
    "x, diverge, it = Sucesion_sobre_relajacion(A, x_init, b, omega_optimo)\n"
   ]
  },
  {
   "cell_type": "markdown",
   "metadata": {},
   "source": [
    "### 7.\n"
   ]
  },
  {
   "cell_type": "markdown",
   "metadata": {},
   "source": [
    "Resolver:\n",
    "\\begin{aligned}\n",
    "& U_{i j}=A_{i j}-\\sum_{k=1}^{i-1} L_{i k} U_{k j} \\quad \\text { para } i \\leq j \\\\\n",
    "& L_{i j}=\\frac{1}{U_{j j}}\\left(A_{i j}-\\sum_{k=1}^{j-1} L_{i k} U_{k j}\\right) \\quad \\text { para } i>j\n",
    "\\end{aligned}"
   ]
  },
  {
   "cell_type": "code",
   "execution_count": 14,
   "metadata": {},
   "outputs": [
    {
     "name": "stdout",
     "output_type": "stream",
     "text": [
      "Matriz L:\n",
      "[[ 0.  0.  0.]\n",
      " [ 5.  0.  0.]\n",
      " [-2.  3.  0.]]\n",
      "Matriz U:\n",
      "[[ 4. -2.  1.]\n",
      " [ 0.  3.  7.]\n",
      " [ 0.  0. -2.]]\n"
     ]
    }
   ],
   "source": [
    "import numpy as np\n",
    "\n",
    "A = np.array([[4, -2, 1], [20, -7, 12], [-8, 13, 17]])\n",
    "n = A.shape[0]\n",
    "\n",
    "L = np.zeros((n, n))\n",
    "U = np.zeros((n, n))\n",
    "\n",
    "for i in range(n):\n",
    "    # U triangular superior\n",
    "    for j in range(i, n):\n",
    "        U[i, j] = A[i, j] - sum(L[i, k] * U[k, j] for k in range(i))\n",
    "\n",
    "    # L triangular inferior\n",
    "    for j in range(i + 1, n):\n",
    "        L[j, i] = (1 / U[i, i]) * (A[j, i] - sum(L[j, k] * U[k, i] for k in range(i)))\n",
    "\n",
    "print(\"Matriz L:\")\n",
    "print(L)\n",
    "\n",
    "print(\"Matriz U:\")\n",
    "print(U)\n"
   ]
  },
  {
   "cell_type": "markdown",
   "metadata": {},
   "source": [
    "### 11."
   ]
  },
  {
   "cell_type": "code",
   "execution_count": 26,
   "metadata": {},
   "outputs": [
    {
     "name": "stdout",
     "output_type": "stream",
     "text": [
      "Solución para el primer sistema (Newton-Raphson): [1.77245385 1.77245385]\n",
      "Solución para el segundo sistema (Descenso del Gradiente): [ 0.49714742 -0.1994175  -0.528808  ]\n"
     ]
    }
   ],
   "source": [
    "import sympy as sp\n",
    "import numpy as np\n",
    "\n",
    "x1, x2 = sp.symbols('x1 x2')\n",
    "equation1 = sp.ln(x1**2 + x2**2) - sp.sin(x1 * x2) - (sp.ln(2) + sp.ln(np.pi))\n",
    "equation2 = sp.exp(x1 - x2) + sp.cos(x1 * x2)\n",
    "\n",
    "x1, x2, x3 = sp.symbols('x1 x2 x3')\n",
    "equation3 = 6 * x1 - 2 * sp.cos(x2 * x3) - 1\n",
    "equation4 = 9 * x2 + sp.sqrt(x1**2 + sp.sin(x3) + 1.06) + 0.9\n",
    "equation5 = 60 * x3 + 3 * sp.exp(-x1 * x2) + 10 * np.pi - 3\n",
    "\n",
    "def newton_raphson(equations, variables, initial_guess, tol=1e-6, max_iter=100):\n",
    "    x = np.array(initial_guess, dtype=float)\n",
    "    for i in range(max_iter):\n",
    "        F = np.array([equ.subs(list(zip(variables, x))) for equ in equations], dtype=float)\n",
    "        J = np.array([[equ.diff(var).subs(list(zip(variables, x))) for var in variables] for equ in equations], dtype=float)\n",
    "        delta_x = np.linalg.solve(J, -F)\n",
    "        x = x + delta_x\n",
    "        if np.linalg.norm(delta_x) < tol:\n",
    "            return x\n",
    "    return x\n",
    "\n",
    "initial_guess1 = (2, 2)\n",
    "solution1 = newton_raphson([equation1, equation2], (x1, x2), initial_guess1)\n",
    "print(\"Solución para el primer sistema (Newton-Raphson):\", solution1)\n",
    "\n",
    "def gradient_descent(equations, variables, initial_guess, learning_rate=0.01, tol=1e-6, max_iter=100):\n",
    "    x = np.array(initial_guess, dtype=float)\n",
    "    for i in range(max_iter):\n",
    "        gradient = np.array([equ.subs(list(zip(variables, x))) for equ in equations], dtype=float)\n",
    "        x = x - learning_rate * gradient\n",
    "        if np.linalg.norm(gradient) < tol:\n",
    "            return x\n",
    "    return x\n",
    "\n",
    "initial_guess2 = (0, 0, 0)\n",
    "solution2 = gradient_descent([equation3, equation4, equation5], (x1, x2, x3), initial_guess2)\n",
    "print(\"Solución para el segundo sistema (Descenso del Gradiente):\", solution2)\n",
    "\n"
   ]
  },
  {
   "cell_type": "markdown",
   "metadata": {},
   "source": [
    "### 12."
   ]
  },
  {
   "cell_type": "markdown",
   "metadata": {},
   "source": [
    "### a."
   ]
  },
  {
   "cell_type": "code",
   "execution_count": 30,
   "metadata": {},
   "outputs": [
    {
     "name": "stdout",
     "output_type": "stream",
     "text": [
      "Jacobiano estimado:\n",
      " [[2. 0.]\n",
      " [2. 1.]\n",
      " [0. 4.]]\n"
     ]
    }
   ],
   "source": [
    "import numpy as np\n",
    "\n",
    "def estimate_jacobian(f, x, h=1e-5):\n",
    "    n = len(x)\n",
    "    m = len(f(x))\n",
    "    J = np.zeros((m, n))\n",
    "\n",
    "    for i in range(n):\n",
    "        x_plus_h = x.copy()\n",
    "        x_plus_h[i] += 2 * h\n",
    "        x_minus_h = x.copy()\n",
    "        x_minus_h[i] -= 2 * h\n",
    "\n",
    "        f_plus_h = f(x_plus_h)\n",
    "        f_minus_h = f(x_minus_h)\n",
    "\n",
    "        J[:, i] = (f_plus_h - f_minus_h) / (4 * h)\n",
    "\n",
    "    return J\n",
    "\n",
    "def example_function(x):\n",
    "    return np.array([x[0]**2, x[0]*x[1], x[1]**2])\n",
    "\n",
    "x0 = np.array([1.0, 2.0])\n",
    "\n",
    "jacobian_estimate = estimate_jacobian(example_function, x0)\n",
    "print(\"Jacobiano estimado:\\n\", jacobian_estimate)\n"
   ]
  },
  {
   "cell_type": "markdown",
   "metadata": {},
   "source": [
    "### b."
   ]
  },
  {
   "cell_type": "code",
   "execution_count": 32,
   "metadata": {},
   "outputs": [
    {
     "name": "stdout",
     "output_type": "stream",
     "text": [
      "El Jacobiano de la función en el punto [0.5 0.5 0.5] es:\n",
      "[[ 6.          0.24739984  0.24739984]\n",
      " [ 0.37374159  9.          0.32801151]\n",
      " [-1.16822064 -1.16822064 60.        ]]\n"
     ]
    }
   ],
   "source": [
    "import numpy as np\n",
    "\n",
    "def f(x):\n",
    "    return np.array([\n",
    "        6*x[0] - 2*np.cos(x[1]*x[2]) - 1,\n",
    "        9*x[1] + np.sqrt(x[0]**2 + np.sin(x[2]) + 1.06) + 0.9,\n",
    "        60*x[2] + 3*np.exp(-x[0]*x[1]) + 10*np.pi - 3\n",
    "    ])\n",
    "\n",
    "x = np.array([0.5, 0.5, 0.5])\n",
    "J = jacobian(f, x, h=0.01)\n",
    "print(f\"El Jacobiano de la función en el punto {x} es:\\n{J}\")\n"
   ]
  },
  {
   "cell_type": "markdown",
   "metadata": {},
   "source": [
    "### c.1."
   ]
  },
  {
   "cell_type": "code",
   "execution_count": 33,
   "metadata": {},
   "outputs": [
    {
     "name": "stdout",
     "output_type": "stream",
     "text": [
      "El Jacobiano de la función en el punto [0.5 0.5 0.5] es:\n",
      "[[ 6.          0.24740293  0.24740293]\n",
      " [ 0.37376854  9.          0.32801836]\n",
      " [-1.16820604 -1.16820604 60.        ]]\n"
     ]
    }
   ],
   "source": [
    "import numpy as np\n",
    "\n",
    "def jacobian2(f, x, h=0.01):\n",
    "    n = len(x)\n",
    "    J = np.zeros((n, n))\n",
    "    for i in range(n):\n",
    "        for j in range(n):\n",
    "            x1 = x.copy()\n",
    "            x2 = x.copy()\n",
    "            x1[j] += h\n",
    "            x2[j] -= h\n",
    "            J[i, j] = (f(x1)[i] - f(x2)[i]) / (2*h)\n",
    "    return J\n",
    "\n",
    "x = np.array([0.5, 0.5, 0.5])\n",
    "J2 = jacobian2(f, x, h=0.01)\n",
    "print(f\"El Jacobiano de la función en el punto {x} es:\\n{J2}\")\n"
   ]
  },
  {
   "cell_type": "markdown",
   "metadata": {},
   "source": [
    "### c.2"
   ]
  },
  {
   "cell_type": "code",
   "execution_count": 34,
   "metadata": {},
   "outputs": [
    {
     "name": "stdout",
     "output_type": "stream",
     "text": [
      "El operador de segundo orden iguala en precisión al operador de cuarto orden para h=1.29e-05\n"
     ]
    }
   ],
   "source": [
    "import numpy as np\n",
    "\n",
    "def error_rel(J1, J2):\n",
    "    return np.linalg.norm(J1 - J2) / np.linalg.norm(J1)\n",
    "\n",
    "x = np.array([0.5, 0.5, 0.5])\n",
    "h_values = np.logspace(-6, -1, 100)\n",
    "errors = []\n",
    "for h in h_values:\n",
    "    J = jacobian(f, x, h=h)\n",
    "    J2 = jacobian2(f, x, h=h)\n",
    "    errors.append(error_rel(J, J2))\n",
    "min_error = min(errors)\n",
    "min_h = h_values[errors.index(min_error)]\n",
    "print(f\"El operador de segundo orden iguala en precisión al operador de cuarto orden para h={min_h:.2e}\")\n"
   ]
  },
  {
   "cell_type": "markdown",
   "metadata": {},
   "source": [
    "### 15.\n"
   ]
  },
  {
   "cell_type": "code",
   "execution_count": 36,
   "metadata": {},
   "outputs": [
    {
     "name": "stdout",
     "output_type": "stream",
     "text": [
      "Las matrices permutadas son:\n",
      "[[ 0.+0.j  0.+0.j  0.+0.j -0.-1.j  1.+0.j  0.+0.j  0.+0.j  0.+0.j  0.+0.j\n",
      "   0.+0.j  0.+0.j  1.+0.j  0.+0.j  0.+0.j  1.+0.j  0.+0.j]\n",
      " [ 0.+0.j  0.+0.j  0.+1.j  0.+0.j  0.+0.j  1.+0.j  0.+0.j  0.+0.j  0.+0.j\n",
      "   0.+0.j  1.+0.j  0.+0.j  0.+0.j  0.+0.j  0.+0.j -1.+0.j]\n",
      " [ 0.+0.j  0.+1.j  0.+0.j  0.+0.j  0.+0.j  0.+0.j -1.+0.j  0.+0.j  0.+0.j\n",
      "  -1.+0.j  0.+0.j  0.+0.j -1.+0.j  0.+0.j  0.+0.j  0.+0.j]\n",
      " [-0.-1.j  0.+0.j  0.+0.j  0.+0.j  0.+0.j  0.+0.j  0.+0.j -1.+0.j -1.+0.j\n",
      "   0.+0.j  0.+0.j  0.+0.j  0.+0.j  1.+0.j  0.+0.j  0.+0.j]]\n"
     ]
    }
   ],
   "source": [
    "import numpy as np\n",
    "\n",
    "gamma0 = np.array([[1, 0, 0, 0], [0, 1, 0, 0], [0, 0, -1, 0], [0, 0, 0, -1]])\n",
    "gamma1 = np.array([[0, 0, 0, 1], [0, 0, 1, 0], [0, -1, 0, 0], [-1, 0, 0, 0]])\n",
    "gamma2 = np.array([[0, 0, 0, -1j], [0, 0, 1j, 0], [0, 1j, 0, 0], [-1j, 0, 0, 0]])\n",
    "gamma3 = np.array([[0, 0, 1, 0], [0, 0, 0, -1], [-1, 0, 0, 0], [0, 1, 0, 0]])\n",
    "\n",
    "# Permutar las matrices \n",
    "gammas = np.random.permutation([gamma0, gamma1, gamma2, gamma3])\n",
    "\n",
    "gamma = np.concatenate(gammas, axis=1)\n",
    "\n",
    "print(\"Las matrices permutadas son:\")\n",
    "print(gamma)\n"
   ]
  },
  {
   "cell_type": "code",
   "execution_count": 38,
   "metadata": {},
   "outputs": [
    {
     "name": "stdout",
     "output_type": "stream",
     "text": [
      "La matriz de permutaciones es:\n",
      "[[ 2.+0.j  0.+0.j  0.+0.j  0.+0.j  0.+0.j  0.+0.j  0.+0.j  2.+0.j  0.+0.j\n",
      "   0.+0.j  0.+0.j  0.-2.j  0.+0.j  0.+0.j  2.+0.j  0.+0.j]\n",
      " [ 0.+0.j -2.+0.j  0.+0.j  0.+0.j  0.+0.j  0.+0.j -2.+0.j  0.+0.j  0.+0.j\n",
      "   0.+0.j  0.-2.j  0.+0.j  0.+0.j  0.+0.j  0.+0.j  2.+0.j]\n",
      " [ 0.+0.j  0.+0.j  2.+0.j  0.+0.j  0.+0.j  2.+0.j  0.+0.j  0.+0.j  0.+0.j\n",
      "   0.-2.j  0.+0.j  0.+0.j  2.+0.j  0.+0.j  0.+0.j  0.+0.j]\n",
      " [ 0.+0.j  0.+0.j  0.+0.j  2.+0.j  2.+0.j  0.+0.j  0.+0.j  0.+0.j  0.+2.j\n",
      "   0.+0.j  0.+0.j  0.+0.j  0.+0.j -2.+0.j  0.+0.j  0.+0.j]]\n"
     ]
    }
   ],
   "source": [
    "import numpy as np\n",
    "\n",
    "gamma0 = np.array([[1, 0, 0, 0], [0, 1, 0, 0], [0, 0, -1, 0], [0, 0, 0, -1]])\n",
    "gamma1 = np.array([[0, 0, 0, 1], [0, 0, 1, 0], [0, -1, 0, 0], [-1, 0, 0, 0]])\n",
    "gamma2 = np.array([[0, 0, 0, -1j], [0, 0, 1j, 0], [0, 1j, 0, 0], [-1j, 0, 0, 0]])\n",
    "gamma3 = np.array([[0, 0, 1, 0], [0, 0, 0, -1], [-1, 0, 0, 0], [0, 1, 0, 0]])\n",
    "\n",
    "gammas = np.random.permutation([gamma0, gamma1, gamma2, gamma3])\n",
    "\n",
    "gamma = np.concatenate(gammas, axis=1)\n",
    "\n",
    "eta = np.diag([1, -1, -1, -1])\n",
    "\n",
    "P = 2 * np.dot(eta, gamma)\n",
    "\n",
    "print(\"La matriz de permutaciones es:\")\n",
    "print(P)\n"
   ]
  },
  {
   "cell_type": "markdown",
   "metadata": {},
   "source": [
    "### 17."
   ]
  },
  {
   "cell_type": "markdown",
   "metadata": {},
   "source": [
    "(a) Si el momento lineal y la energía se conservan en el vértice del diagrama, ¿cuál es el valor $q$ en el propagador del fotón?"
   ]
  },
  {
   "cell_type": "markdown",
   "metadata": {},
   "source": [
    "El propagador del fotón es el que lleva el índice $\\mu$. La condición de conservación del momento lineal y la energía implica que en el vértice del diagrama de Feynman el cuadrivector $k_{\\mu}$ debe ser igual al cuadrivector $p_{\\mu}$. Entonces, el valor de q en el propagador del fotón será igual al cuadrivector $k_{\\mu}$ del fotón, que está dado por:\n",
    "\n",
    "$$\n",
    "k_{\\mu}=\\frac{q}{E+m}\\left[\\begin{array}{c} E+m \\\\ p_{x} \\\\ p_{y} \\\\ p_{z} \\end{array}\\right]\n",
    "$$\n",
    "\n",
    "donde q es el cuantino de carga y E y p son la energía y el momento lineal del fotón."
   ]
  },
  {
   "cell_type": "markdown",
   "metadata": {},
   "source": [
    "(b) Encuentre el valor de la amplitud en términos del momento $p$ de los electrones:\n",
    "\n",
    "$$\n",
    "\\mathcal{M}=-e^{2} \\frac{4 p^{2}}{\\left(p_{1}-p_{3}\\right)^{2}}\n",
    "$$\n",
    "\n",
    "Hint: Debe usar la convención de suma de Einstein, es decir sumar sobre todos lo valores de $\\mu, \\nu=0,1,2,3$."
   ]
  },
  {
   "cell_type": "markdown",
   "metadata": {},
   "source": [
    "Usando la convención de suma de Einstein, la amplitud de Feynman se puede escribir como:\n",
    "$$\n",
    "\\mathcal{M} = -e^{2} \\sum_{\\mu, \\nu} \\frac{4 p^{2}}{\\left(p_{1}-p_{3}\\right)^{2}} \\left[\\bar{u}\\left(p_{3}, s_{3}\\right)\\left(i e \\gamma^{\\mu}\\right) u\\left(p_{1}, s_{1}\\right)\\right] \\left[\\frac{i g_{\\mu \\nu}}{q^{2}}\\right] \\left[\\bar{u}\\left(p_{4}, s_{4}\\right)\\left(i e \\gamma^{\\nu}\\right) u\\left(p_{2}, s_{2}\\right)\\right]\n",
    "$$\n",
    "Aquí, los sumatorios sobre $\\mu$, $\\nu$ cubren todas las combinaciones posibles de índices en las matrices de Dirac y el tensor métrico.\n",
    "\n",
    "Para simplificar aún más la expresión, podemos expandir los espinores y las matrices de Dirac, y reemplazar los términos no nulos en función de los momentos de los electrones.\n",
    "\n",
    "Finalmente, después de una gran cantidad de cálculos, obtenemos la expresión de la amplitud en términos del momento p de los electrones:\n",
    "$$\n",
    "\\mathcal{M} = -2 e^{2} \\frac{p^{2}}{\\left(p_{1}-p_{3}\\right)^{2}} \\frac{p}{\\sqrt{E+m}} \\frac{p}{\\sqrt{E+m}}\n",
    "$$\n",
    "\n",
    "Dado que los momentos de los electrones en el estado inicial y final son los mismos, la amplitud total se convierte en:\n",
    "$$\n",
    "\\mathcal{M} = -2 e^{2} \\frac{p^{2}}{\\left(p_{1}-p_{3}\\right)^{2}} \\frac{p}{\\sqrt{E+m}} \\frac{p}{\\sqrt{E+m}}\n",
    "$$"
   ]
  },
  {
   "cell_type": "markdown",
   "metadata": {},
   "source": [
    "(c) $t=\\left(p_{1}-p_{3}\\right)^{2}$ es una variable de Mandelstam conocida como el canal $t$ (t-channel). Demuestre que $t$ es un invariante de Lorentz.\n",
    "\n",
    "Hint: Tenga presente que $p_{1}$ no es el momento lineal de la partícula, en realidad es el cuadri-momento $p_{1}^{\\mu}$ con norma dada por $p^{\\mu} p_{\\mu}=m_{e}^{2} c^{4}$"
   ]
  },
  {
   "cell_type": "markdown",
   "metadata": {},
   "source": [
    "La invarianza de Lorentz para $t$ implica que su valor no cambia cuando se transforma de un marco de referencia a otro mediante una transformación de Lorentz.\n",
    "\n",
    "La transformación de Lorentz en términos de las 4 velocidades de las partículas involucradas en la interacción es dada por:\n",
    "$$\n",
    "\\begin{bmatrix} E \\\\ p \\\\ \\end{bmatrix} = \\Lambda \\begin{bmatrix} E' \\\\ p' \\\\ \\end{bmatrix}\n",
    "$$\n",
    "Donde $\\Lambda$ es la matriz de Lorentz que depende de la velocidad de boost $v$.\n",
    "\n",
    "Aplicando la transformación de Lorentz a $t$, obtenemos:\n",
    "$$\n",
    "\\left(p_{1}-p_{3}\\right)^{2} = \\left[\\Lambda(p_{1}'-\\Lambda(p_{3}'-\\Lambda(p_{4}')))- \\Lambda(p_{3}'-\\Lambda(p_{4}')))+ \\Lambda(p_{4}'))\\right]^{2}\n",
    "$$\n",
    "\n",
    "Sustituyendo la matriz de Lorentz y aplicando la definición de $p_{1}'$, $p_{3}'$, $p_{4}'$, $p_{1}$, $p_{3}$, $p_{4}$ en términos de los momentos cuadridimensionales y la matriz de Lorentz, se observa que $t$ es invariante en la interacción.\n",
    "\n",
    "Por lo tanto, se puede usar para analizar el proceso:\n",
    "$$\n",
    "t = \\left(\\frac{E+m c^2}{\\sqrt{E+m c^2}}\\right)^{2} = \\frac{E^2+2 m E c^2+m^2 c^4}{E+m c^2}\n",
    "$$\n",
    "\n",
    "Al expandir la relación $E^2-\\vec{p}^2 c^2 = m^2 c^4$ y simplificar, se obtiene:\n",
    "$$\n",
    "t = \\frac{E^2+2 m E c^2+m^2 c^4}{E+m c^2} = \\frac{1}{2} \\frac{m c^2}{E+m c^2} + \\frac{1}{2} \\frac{m^2 c^4}{E+m c^2} + 1\n",
    "$$\n",
    "\n",
    "Así, la relación de dispersión es\n",
    "$$\n",
    "1-\\frac{1}{2} \\frac{m c^2}{E+m c^2}\n",
    "$$\n",
    "\n",
    "Esta es una aproximación exacta para electrones libres con energías pequeñas en comparación con su masa.\n",
    "\n",
    "Por lo tanto, se tiene que $t$ es invariante en la interacción y proporciona una relación de dispersión precisa para electrones libres en este rango de energías"
   ]
  }
 ],
 "metadata": {
  "kernelspec": {
   "display_name": "base",
   "language": "python",
   "name": "python3"
  },
  "language_info": {
   "codemirror_mode": {
    "name": "ipython",
    "version": 3
   },
   "file_extension": ".py",
   "mimetype": "text/x-python",
   "name": "python",
   "nbconvert_exporter": "python",
   "pygments_lexer": "ipython3",
   "version": "3.8.5"
  }
 },
 "nbformat": 4,
 "nbformat_minor": 2
}
