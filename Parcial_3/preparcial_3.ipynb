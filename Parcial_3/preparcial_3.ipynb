{
 "cells": [
  {
   "cell_type": "markdown",
   "metadata": {},
   "source": [
    "### Juana Pinzón 202112577    Alan Romero 202212891"
   ]
  },
  {
   "cell_type": "markdown",
   "metadata": {},
   "source": [
    "Dada la simetria:\n",
    "\\[\n",
    "\\begin{aligned}\n",
    "& F_R=K_e q^2 / 4 a^2(2 \\sqrt{2}+1) \\ldots \\\\\n",
    "& a=L \\operatorname{sen} \\theta \\\\\n",
    "& \\text { diagrama cuerpo } \\operatorname{tg} \\theta=F n / P \\\\\n",
    "& \\text { libre } \\\\\n",
    "&\n",
    "\\end{aligned}\n",
    "\n",
    "\\begin{aligned}\n",
    "& \\text { Reemplazar ecuaciones: } \\\\\n",
    "& \\operatorname{sen}^2 \\theta \\operatorname{tg} \\theta=\\operatorname{ke} \\frac{q^2}{4 L^2 P}(2 \\sqrt{2}+1)\n",
    "\\end{aligned}\n",
    "\\]\n",
    "\n",
    "sustituir y simplificar:"
   ]
  },
  {
   "cell_type": "markdown",
   "metadata": {},
   "source": [
    "\n",
    "ecuación:\n",
    "\\[\n",
    "\\begin{aligned}\n",
    "& \\sin ^2 \\theta \\operatorname{tg} \\theta=0.27=27 / 100 \\\\\n",
    "& \\operatorname{sen}^6 \\theta+c \\operatorname{sen}^2 \\theta-c=0 \\\\\n",
    "\\end{aligned}\n",
    "\\]"
   ]
  }
 ],
 "metadata": {
  "kernelspec": {
   "display_name": "base",
   "language": "python",
   "name": "python3"
  },
  "language_info": {
   "name": "python",
   "version": "3.8.5"
  }
 },
 "nbformat": 4,
 "nbformat_minor": 2
}
