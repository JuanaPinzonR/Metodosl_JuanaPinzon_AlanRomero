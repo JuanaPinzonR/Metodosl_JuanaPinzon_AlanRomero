{
 "cells": [
  {
   "cell_type": "markdown",
   "metadata": {},
   "source": [
    "### Juana Pinzón 202112577    Alan Romero 202212891"
   ]
  },
  {
   "cell_type": "markdown",
   "metadata": {},
   "source": [
    "# Ejercicio: Distribuciones continuas de probabilidad"
   ]
  },
  {
   "cell_type": "markdown",
   "metadata": {},
   "source": [
    "## 1) a."
   ]
  },
  {
   "cell_type": "markdown",
   "metadata": {},
   "source": [
    "Comprobar que cumple las siguientes propiedades:\n",
    "\n",
    "1. <math xmlns=\"http://www.w3.org/1998/Math/MathML\" display=\"block\"><semantics><mrow><mi>f</mi><mo stretchy=\"false\">(</mo><mi>x</mi><mo separator=\"true\">,</mo><mi>y</mi><mo stretchy=\"false\">)</mo><mo>≥</mo><mn>0</mn><mspace width=\"1em\"></mspace><mtext>&nbsp;para&nbsp;todo&nbsp;</mtext><mo stretchy=\"false\">(</mo><mi>x</mi><mo separator=\"true\">,</mo><mi>y</mi><mo stretchy=\"false\">)</mo></mrow><annotation encoding=\"application/x-tex\">f(x, y) \\geq 0 \\quad \\text { para todo } (x, y)\n",
    "</annotation></semantics></math>\n",
    "2. <math xmlns=\"http://www.w3.org/1998/Math/MathML\" display=\"block\"><semantics><mrow><msubsup><mo>∫</mo><mrow><mo>−</mo><mi mathvariant=\"normal\">∞</mi></mrow><mi mathvariant=\"normal\">∞</mi></msubsup><msubsup><mo>∫</mo><mrow><mo>−</mo><mi mathvariant=\"normal\">∞</mi></mrow><mi mathvariant=\"normal\">∞</mi></msubsup><mi>f</mi><mo stretchy=\"false\">(</mo><mi>x</mi><mo separator=\"true\">,</mo><mi>y</mi><mo stretchy=\"false\">)</mo><mi>d</mi><mi>x</mi><mi>d</mi><mi>y</mi><mo>=</mo><mn>1</mn></mrow><annotation encoding=\"application/x-tex\">\\int_{-\\infty}^{\\infty} \\int_{-\\infty}^{\\infty} f(x, y) d x d y=1\n",
    "</annotation></semantics></math>\n",
    "\n",
    "En este caso, se puede ver que la primera propiedad se cumple, ya que f(x,y) es positiva en el intervalo 0≤x≤1,0≤y≤1 y cero en otro caso."
   ]
  },
  {
   "cell_type": "markdown",
   "metadata": {},
   "source": [
    "Para comprobar la segunda propiedad:"
   ]
  },
  {
   "cell_type": "code",
   "execution_count": 2,
   "metadata": {},
   "outputs": [
    {
     "data": {
      "text/latex": [
       "$\\displaystyle 1.0$"
      ],
      "text/plain": [
       "1.00000000000000"
      ]
     },
     "execution_count": 2,
     "metadata": {},
     "output_type": "execute_result"
    }
   ],
   "source": [
    "from sympy import *\n",
    "x, y = symbols('x y')\n",
    "f = Piecewise((2/3*(x + 2*y), (x >= 0) & (x <= 1) & (y >= 0) & (y <= 1)), (0, True))\n",
    "integrate(integrate(f, (x, -oo, oo)), (y, -oo, oo))"
   ]
  },
  {
   "cell_type": "markdown",
   "metadata": {},
   "source": [
    "El resultado es 1, lo que significa que la función de densidad conjunta es válida."
   ]
  },
  {
   "cell_type": "markdown",
   "metadata": {},
   "source": [
    "## b."
   ]
  },
  {
   "cell_type": "markdown",
   "metadata": {},
   "source": [
    "integrar f(x,y) respecto a y y x, respectivamente:\n",
    "\n",
    "<math xmlns=\"http://www.w3.org/1998/Math/MathML\" display=\"block\"><semantics><mrow><mi>g</mi><mo stretchy=\"false\">(</mo><mi>x</mi><mo stretchy=\"false\">)</mo><mo>=</mo><msubsup><mo>∫</mo><mrow><mo>−</mo><mi mathvariant=\"normal\">∞</mi></mrow><mi mathvariant=\"normal\">∞</mi></msubsup><mi>f</mi><mo stretchy=\"false\">(</mo><mi>x</mi><mo separator=\"true\">,</mo><mi>y</mi><mo stretchy=\"false\">)</mo><mi>d</mi><mi>y</mi></mrow><annotation encoding=\"application/x-tex\">g(x)=\\int_{-\\infty}^{\\infty} f(x, y) d y\n",
    "</annotation></semantics></math>\n",
    "\n",
    "<math xmlns=\"http://www.w3.org/1998/Math/MathML\" display=\"block\"><semantics><mrow><mi>h</mi><mo stretchy=\"false\">(</mo><mi>y</mi><mo stretchy=\"false\">)</mo><mo>=</mo><msubsup><mo>∫</mo><mrow><mo>−</mo><mi mathvariant=\"normal\">∞</mi></mrow><mi mathvariant=\"normal\">∞</mi></msubsup><mi>f</mi><mo stretchy=\"false\">(</mo><mi>x</mi><mo separator=\"true\">,</mo><mi>y</mi><mo stretchy=\"false\">)</mo><mi>d</mi><mi>x</mi></mrow><annotation encoding=\"application/x-tex\">h(y)=\\int_{-\\infty}^{\\infty} f(x, y) d x\n",
    "</annotation></semantics></math>"
   ]
  },
  {
   "cell_type": "code",
   "execution_count": null,
   "metadata": {},
   "outputs": [],
   "source": [
    "g = integrate(f, (y, -oo, oo))\n",
    "h = integrate(f, (x, -oo, oo))\n",
    "print(g)\n",
    "print(h)\n"
   ]
  },
  {
   "cell_type": "markdown",
   "metadata": {},
   "source": [
    "<math xmlns=\"http://www.w3.org/1998/Math/MathML\" display=\"block\"><semantics><mrow><mi>g</mi><mo stretchy=\"false\">(</mo><mi>x</mi><mo stretchy=\"false\">)</mo><mo>=</mo><mrow><mo fence=\"true\">{</mo><mtable rowspacing=\"0.16em\" columnalign=\"left left\" columnspacing=\"1em\"><mtr><mtd><mstyle scriptlevel=\"0\" displaystyle=\"false\"><mrow><mfrac><mn>2</mn><mn>3</mn></mfrac><mi>x</mi><mo>+</mo><mfrac><mn>4</mn><mn>3</mn></mfrac></mrow></mstyle></mtd><mtd><mstyle scriptlevel=\"0\" displaystyle=\"false\"><mrow><mn>0</mn><mo>≤</mo><mi>x</mi><mo>≤</mo><mn>1</mn></mrow></mstyle></mtd></mtr><mtr><mtd><mstyle scriptlevel=\"0\" displaystyle=\"false\"><mn>0</mn></mstyle></mtd><mtd><mstyle scriptlevel=\"0\" displaystyle=\"false\"><mtext>&nbsp;otro&nbsp;caso&nbsp;</mtext></mstyle></mtd></mtr></mtable></mrow></mrow><annotation encoding=\"application/x-tex\">g(x)=\\left\\{\\begin{array}{ll}\n",
    "\\frac{2}{3} x+\\frac{4}{3} &amp; 0 \\leq x \\leq 1 \\\\\n",
    "0 &amp; \\text { otro caso }\n",
    "\\end{array}\\right.\n",
    "</annotation></semantics></math>\n",
    "\n",
    "<math xmlns=\"http://www.w3.org/1998/Math/MathML\" display=\"block\"><semantics><mrow><mi>h</mi><mo stretchy=\"false\">(</mo><mi>y</mi><mo stretchy=\"false\">)</mo><mo>=</mo><mrow><mo fence=\"true\">{</mo><mtable rowspacing=\"0.16em\" columnalign=\"left left\" columnspacing=\"1em\"><mtr><mtd><mstyle scriptlevel=\"0\" displaystyle=\"false\"><mrow><mfrac><mn>4</mn><mn>3</mn></mfrac><mi>y</mi><mo>+</mo><mfrac><mn>2</mn><mn>3</mn></mfrac></mrow></mstyle></mtd><mtd><mstyle scriptlevel=\"0\" displaystyle=\"false\"><mrow><mn>0</mn><mo>≤</mo><mi>y</mi><mo>≤</mo><mn>1</mn></mrow></mstyle></mtd></mtr><mtr><mtd><mstyle scriptlevel=\"0\" displaystyle=\"false\"><mn>0</mn></mstyle></mtd><mtd><mstyle scriptlevel=\"0\" displaystyle=\"false\"><mtext>&nbsp;otro&nbsp;caso&nbsp;</mtext></mstyle></mtd></mtr></mtable></mrow></mrow><annotation encoding=\"application/x-tex\">h(y)=\\left\\{\\begin{array}{ll}\n",
    "\\frac{4}{3} y+\\frac{2}{3} &amp; 0 \\leq y \\leq 1 \\\\\n",
    "0 &amp; \\text { otro caso }\n",
    "\\end{array}\\right.\n",
    "</annotation></semantics></math>"
   ]
  },
  {
   "cell_type": "markdown",
   "metadata": {},
   "source": [
    "## c."
   ]
  },
  {
   "cell_type": "markdown",
   "metadata": {},
   "source": [
    "Usar la definición de esperanza para una variable aleatoria continua:\n",
    "<math xmlns=\"http://www.w3.org/1998/Math/MathML\" display=\"block\"><semantics><mrow><mi mathvariant=\"double-struck\">E</mi><mo stretchy=\"false\">(</mo><mi>x</mi><mo stretchy=\"false\">)</mo><mo>=</mo><msubsup><mo>∫</mo><mrow><mo>−</mo><mi mathvariant=\"normal\">∞</mi></mrow><mi mathvariant=\"normal\">∞</mi></msubsup><mi>x</mi><mi>g</mi><mo stretchy=\"false\">(</mo><mi>x</mi><mo stretchy=\"false\">)</mo><mi>d</mi><mi>x</mi></mrow><annotation encoding=\"application/x-tex\">\\mathbb{E}(x)=\\int_{-\\infty}^{\\infty} x g(x) d x\n",
    "</annotation></semantics></math>"
   ]
  },
  {
   "cell_type": "code",
   "execution_count": 5,
   "metadata": {},
   "outputs": [
    {
     "name": "stdout",
     "output_type": "stream",
     "text": [
      "0.555555555555556\n"
     ]
    }
   ],
   "source": [
    "Ex = integrate(x*g, (x, -oo, oo))\n",
    "print(Ex)\n"
   ]
  },
  {
   "cell_type": "markdown",
   "metadata": {},
   "source": [
    "= 10/18"
   ]
  },
  {
   "cell_type": "markdown",
   "metadata": {},
   "source": [
    "## d."
   ]
  },
  {
   "cell_type": "markdown",
   "metadata": {},
   "source": [
    "Usar la misma definición de esperanza, pero con la distribución marginal de y:\n",
    "\n",
    "<math xmlns=\"http://www.w3.org/1998/Math/MathML\" display=\"block\"><semantics><mrow><mi mathvariant=\"double-struck\">E</mi><mo stretchy=\"false\">(</mo><mi>y</mi><mo stretchy=\"false\">)</mo><mo>=</mo><msubsup><mo>∫</mo><mrow><mo>−</mo><mi mathvariant=\"normal\">∞</mi></mrow><mi mathvariant=\"normal\">∞</mi></msubsup><mi>y</mi><mi>h</mi><mo stretchy=\"false\">(</mo><mi>y</mi><mo stretchy=\"false\">)</mo><mi>d</mi><mi>y</mi></mrow><annotation encoding=\"application/x-tex\">\\mathbb{E}(y)=\\int_{-\\infty}^{\\infty} y h(y) d y\n",
    "</annotation></semantics></math>"
   ]
  },
  {
   "cell_type": "code",
   "execution_count": 6,
   "metadata": {},
   "outputs": [
    {
     "name": "stdout",
     "output_type": "stream",
     "text": [
      "0.611111111111111\n"
     ]
    }
   ],
   "source": [
    "Ey = integrate(y*h, (y, -oo, oo))\n",
    "print(Ey)\n"
   ]
  },
  {
   "cell_type": "markdown",
   "metadata": {},
   "source": [
    "= 11/18"
   ]
  },
  {
   "cell_type": "markdown",
   "metadata": {},
   "source": [
    "## e."
   ]
  },
  {
   "cell_type": "markdown",
   "metadata": {},
   "source": [
    "Usar la fórmula σxy​=E(xy)−E(x)E(y), hallar primero E(xy), que se define como:\n",
    "\n",
    "<math xmlns=\"http://www.w3.org/1998/Math/MathML\" display=\"block\"><semantics><mrow><mi mathvariant=\"double-struck\">E</mi><mo stretchy=\"false\">(</mo><mi>x</mi><mi>y</mi><mo stretchy=\"false\">)</mo><mo>=</mo><msubsup><mo>∫</mo><mrow><mo>−</mo><mi mathvariant=\"normal\">∞</mi></mrow><mi mathvariant=\"normal\">∞</mi></msubsup><msubsup><mo>∫</mo><mrow><mo>−</mo><mi mathvariant=\"normal\">∞</mi></mrow><mi mathvariant=\"normal\">∞</mi></msubsup><mi>x</mi><mi>y</mi><mi>f</mi><mo stretchy=\"false\">(</mo><mi>x</mi><mo separator=\"true\">,</mo><mi>y</mi><mo stretchy=\"false\">)</mo><mi>d</mi><mi>x</mi><mi>d</mi><mi>y</mi></mrow><annotation encoding=\"application/x-tex\">\\mathbb{E}(x y)=\\int_{-\\infty}^{\\infty} \\int_{-\\infty}^{\\infty} x y f(x, y) d x d y\n",
    "</annotation></semantics></math>"
   ]
  },
  {
   "cell_type": "code",
   "execution_count": 8,
   "metadata": {},
   "outputs": [
    {
     "name": "stdout",
     "output_type": "stream",
     "text": [
      "0.333333333333333\n"
     ]
    }
   ],
   "source": [
    "Exy = integrate(integrate(x*y*f, (x, -oo, oo)), (y, -oo, oo))\n",
    "print(Exy)"
   ]
  },
  {
   "cell_type": "markdown",
   "metadata": {},
   "source": [
    "Sustituir los valores de E(x), E(y) y E(xy) en la fórmula de la covarianza"
   ]
  },
  {
   "cell_type": "code",
   "execution_count": 9,
   "metadata": {},
   "outputs": [
    {
     "name": "stdout",
     "output_type": "stream",
     "text": [
      "-0.00617283950617281\n"
     ]
    }
   ],
   "source": [
    "cov = Exy - Ex*Ey\n",
    "print(cov)"
   ]
  },
  {
   "cell_type": "markdown",
   "metadata": {},
   "source": [
    "## f.\n"
   ]
  },
  {
   "cell_type": "markdown",
   "metadata": {},
   "source": [
    "Para hallar la convarianza con la fórmula dada, se debe hallar primero E((x−μ^​x​)(y−μ^​y​)), que se define como:\n",
    "\n",
    "<math xmlns=\"http://www.w3.org/1998/Math/MathML\" display=\"block\"><semantics><mrow><mi mathvariant=\"double-struck\">E</mi><mrow><mo fence=\"true\">(</mo><mrow><mo fence=\"true\">(</mo><mi>x</mi><mo>−</mo><msub><mover accent=\"true\"><mi>μ</mi><mo>^</mo></mover><mi>x</mi></msub><mo fence=\"true\">)</mo></mrow><mrow><mo fence=\"true\">(</mo><mi>y</mi><mo>−</mo><msub><mover accent=\"true\"><mi>μ</mi><mo>^</mo></mover><mi>y</mi></msub><mo fence=\"true\">)</mo></mrow><mo fence=\"true\">)</mo></mrow><mo>=</mo><msubsup><mo>∫</mo><mrow><mo>−</mo><mi mathvariant=\"normal\">∞</mi></mrow><mi mathvariant=\"normal\">∞</mi></msubsup><msubsup><mo>∫</mo><mrow><mo>−</mo><mi mathvariant=\"normal\">∞</mi></mrow><mi mathvariant=\"normal\">∞</mi></msubsup><mrow><mo fence=\"true\">(</mo><mi>x</mi><mo>−</mo><msub><mover accent=\"true\"><mi>μ</mi><mo>^</mo></mover><mi>x</mi></msub><mo fence=\"true\">)</mo></mrow><mrow><mo fence=\"true\">(</mo><mi>y</mi><mo>−</mo><msub><mover accent=\"true\"><mi>μ</mi><mo>^</mo></mover><mi>y</mi></msub><mo fence=\"true\">)</mo></mrow><mi>f</mi><mo stretchy=\"false\">(</mo><mi>x</mi><mo separator=\"true\">,</mo><mi>y</mi><mo stretchy=\"false\">)</mo><mi>d</mi><mi>x</mi><mi>d</mi><mi>y</mi></mrow><annotation encoding=\"application/x-tex\">\n"
   ]
  },
  {
   "cell_type": "code",
   "execution_count": 10,
   "metadata": {},
   "outputs": [
    {
     "name": "stdout",
     "output_type": "stream",
     "text": [
      "-0.00617283950617284\n"
     ]
    }
   ],
   "source": [
    "cov2 = integrate(integrate((x - Ex)*(y - Ey)*f, (x, -oo, oo)), (y, -oo, oo))\n",
    "print(cov2)"
   ]
  },
  {
   "cell_type": "markdown",
   "metadata": {},
   "source": [
    "## g."
   ]
  },
  {
   "cell_type": "markdown",
   "metadata": {},
   "source": [
    "Comprobar si se cumple que:\n",
    "\n",
    "<math xmlns=\"http://www.w3.org/1998/Math/MathML\" display=\"block\"><semantics><mrow><mi>f</mi><mo stretchy=\"false\">(</mo><mi>x</mi><mo separator=\"true\">,</mo><mi>y</mi><mo stretchy=\"false\">)</mo><mo>=</mo><mi>g</mi><mo stretchy=\"false\">(</mo><mi>x</mi><mo stretchy=\"false\">)</mo><mi>h</mi><mo stretchy=\"false\">(</mo><mi>y</mi><mo stretchy=\"false\">)</mo></mrow><annotation encoding=\"application/x-tex\">f(x, y)=g(x) h(y)\n",
    "</annotation></semantics></math>"
   ]
  },
  {
   "cell_type": "code",
   "execution_count": 11,
   "metadata": {},
   "outputs": [
    {
     "data": {
      "text/latex": [
       "$\\displaystyle \\begin{cases} - 0.888888888888889 x y + 0.444444444444444 x + 0.444444444444444 y - 0.222222222222222 & \\text{for}\\: x \\geq 0 \\wedge y \\geq 0 \\wedge x \\leq 1 \\wedge y \\leq 1 \\\\0 & \\text{otherwise} \\end{cases}$"
      ],
      "text/plain": [
       "Piecewise((-0.888888888888889*x*y + 0.444444444444444*x + 0.444444444444444*y - 0.222222222222222, (x >= 0) & (y >= 0) & (x <= 1) & (y <= 1)), (0, True))"
      ]
     },
     "execution_count": 11,
     "metadata": {},
     "output_type": "execute_result"
    }
   ],
   "source": [
    "simplify(f - g*h)"
   ]
  },
  {
   "cell_type": "markdown",
   "metadata": {},
   "source": [
    "Como el intervalo es diferente de cero, se puede concluir que laas variables x y y no son independientes"
   ]
  },
  {
   "cell_type": "markdown",
   "metadata": {},
   "source": [
    "# Ejercicio: Hidden Markov models"
   ]
  },
  {
   "cell_type": "markdown",
   "metadata": {},
   "source": [
    "## 1) a."
   ]
  },
  {
   "cell_type": "markdown",
   "metadata": {},
   "source": [
    "Distribución de probabilidad a-priori:\n",
    "\n",
    "\n",
    "π=[0.2,0.8]"
   ]
  },
  {
   "cell_type": "markdown",
   "metadata": {},
   "source": [
    "## b."
   ]
  },
  {
   "cell_type": "code",
   "execution_count": 17,
   "metadata": {},
   "outputs": [
    {
     "name": "stdout",
     "output_type": "stream",
     "text": [
      "La secuencia oculta más probable es: [1 1 1 1 0 0 0 0]\n",
      "La probabilidad de esta secuencia es: 0.00019110297600000007\n"
     ]
    }
   ],
   "source": [
    "\n",
    "import numpy as np\n",
    "\n",
    "pi = np.array([0.2, 0.8]) \n",
    "T = np.array([[0.8, 0.2], [0.2, 0.8]]) \n",
    "E = np.array([[0.5, 0.9], [0.5, 0.1]])\n",
    "O = np.array([1, 0, 0, 0, 1, 0, 1, 0]) \n",
    "\n",
    "\n",
    "n = len(O) \n",
    "m = len(pi)\n",
    "V = np.zeros((n, m)) \n",
    "B = np.zeros((n, m), dtype=int) \n",
    "\n",
    "V[0] = pi * E[O[0]] \n",
    "B[0] = -1 # No hay retroceso en el primer paso\n",
    "\n",
    "\n",
    "for t in range(1, n):\n",
    "  for j in range(m):\n",
    "   \n",
    "    V[t, j] = np.max(V[t-1] * T[:, j]) * E[O[t], j]\n",
    "    B[t, j] = np.argmax(V[t-1] * T[:, j])\n",
    "\n",
    "last_state = np.argmax(V[n-1])\n",
    "prob = V[n-1, last_state]\n",
    "\n",
    "H = np.zeros(n, dtype=int) \n",
    "H[n-1] = last_state \n",
    "for t in range(n-2, -1, -1):\n",
    "  H[t] = B[t+1, H[t+1]]\n",
    "\n",
    "print(\"La secuencia oculta más probable es:\", H)\n",
    "print(\"La probabilidad de esta secuencia es:\", prob)\n"
   ]
  },
  {
   "cell_type": "markdown",
   "metadata": {},
   "source": [
    "## c."
   ]
  },
  {
   "cell_type": "code",
   "execution_count": 13,
   "metadata": {},
   "outputs": [
    {
     "name": "stdout",
     "output_type": "stream",
     "text": [
      "Las probabilidades de cada estado observable son: [0.18       0.0976     0.057472   0.03625984 0.00537477 0.00291432\n",
      " 0.00061535 0.00029017]\n"
     ]
    }
   ],
   "source": [
    "\n",
    "import numpy as np\n",
    "\n",
    "pi = np.array([0.2, 0.8]) \n",
    "T = np.array([[0.8, 0.2], [0.2, 0.8]]) \n",
    "E = np.array([[0.5, 0.9], [0.5, 0.1]])\n",
    "O = np.array([1, 0, 0, 0, 1, 0, 1, 0]) \n",
    "\n",
    "n = len(O) \n",
    "m = len(pi)\n",
    "V = np.zeros((n, m)) \n",
    "B = np.zeros((n, m), dtype=int) \n",
    "\n",
    "V[0] = pi * E[O[0]] \n",
    "B[0] = -1 # No hay retroceso en el primer paso\n",
    "\n",
    "\n",
    "for t in range(1, n):\n",
    "  for j in range(m):\n",
    "   \n",
    "    V[t, j] = np.max(V[t-1] * T[:, j]) * E[O[t], j]\n",
    "    B[t, j] = np.argmax(V[t-1] * T[:, j])\n",
    "\n",
    "last_state = np.argmax(V[n-1])\n",
    "prob = V[n-1, last_state]\n",
    "\n",
    "H = np.zeros(n, dtype=int) \n",
    "H[n-1] = last_state \n",
    "for t in range(n-2, -1, -1):\n",
    "  H[t] = B[t+1, H[t+1]]\n",
    "\n",
    "P = np.zeros(n) \n",
    "for t in range(n):\n",
    "  P[t] = np.sum(V[t])\n",
    "\n",
    "print(\"Las probabilidades de cada estado observable son:\", P)"
   ]
  },
  {
   "cell_type": "markdown",
   "metadata": {},
   "source": [
    "## d. "
   ]
  },
  {
   "cell_type": "code",
   "execution_count": 14,
   "metadata": {},
   "outputs": [
    {
     "name": "stdout",
     "output_type": "stream",
     "text": [
      "La suma de todas las probabilidades de los estados observables es: 0.38052645392547846\n"
     ]
    }
   ],
   "source": [
    "\n",
    "import numpy as np\n",
    "\n",
    "pi = np.array([0.2, 0.8]) \n",
    "T = np.array([[0.8, 0.2], [0.2, 0.8]]) \n",
    "E = np.array([[0.5, 0.9], [0.5, 0.1]])\n",
    "O = np.array([1, 0, 0, 0, 1, 0, 1, 0]) \n",
    "\n",
    "n = len(O) \n",
    "m = len(pi)\n",
    "V = np.zeros((n, m)) \n",
    "B = np.zeros((n, m), dtype=int) \n",
    "\n",
    "V[0] = pi * E[O[0]] \n",
    "B[0] = -1 # No hay retroceso en el primer paso\n",
    "\n",
    "\n",
    "for t in range(1, n):\n",
    "  for j in range(m):\n",
    "   \n",
    "    V[t, j] = np.max(V[t-1] * T[:, j]) * E[O[t], j]\n",
    "    B[t, j] = np.argmax(V[t-1] * T[:, j])\n",
    "\n",
    "last_state = np.argmax(V[n-1])\n",
    "prob = V[n-1, last_state]\n",
    "\n",
    "H = np.zeros(n, dtype=int) \n",
    "H[n-1] = last_state \n",
    "for t in range(n-2, -1, -1):\n",
    "  H[t] = B[t+1, H[t+1]]\n",
    "\n",
    "P = np.zeros(n) \n",
    "for t in range(n):\n",
    "  P[t] = np.sum(V[t])\n",
    "\n",
    "print(\"La suma de todas las probabilidades de los estados observables es:\", np.sum(P))\n"
   ]
  },
  {
   "cell_type": "markdown",
   "metadata": {},
   "source": [
    "## e."
   ]
  },
  {
   "cell_type": "code",
   "execution_count": 15,
   "metadata": {},
   "outputs": [
    {
     "name": "stdout",
     "output_type": "stream",
     "text": [
      "La suma de todas las probabilidades de los estados observables es: 0.570623348224\n"
     ]
    }
   ],
   "source": [
    "\n",
    "import numpy as np\n",
    "\n",
    "pi = np.array([0.5, 0.5]) \n",
    "T = np.array([[0.8, 0.2], [0.2, 0.8]]) \n",
    "E = np.array([[0.5, 0.9], [0.5, 0.1]])\n",
    "O = np.array([1, 0, 0, 0, 1, 0, 1, 0]) \n",
    "\n",
    "# Inicializar las variables\n",
    "n = len(O) \n",
    "m = len(pi)\n",
    "V = np.zeros((n, m)) \n",
    "B = np.zeros((n, m), dtype=int) \n",
    "\n",
    "V[0] = pi * E[O[0]] \n",
    "B[0] = -1 # No hay retroceso en el primer paso\n",
    "\n",
    "for t in range(1, n):\n",
    "  for j in range(m):\n",
    "   \n",
    "    V[t, j] = np.max(V[t-1] * T[:, j]) * E[O[t], j]\n",
    "    B[t, j] = np.argmax(V[t-1] * T[:, j])\n",
    "\n",
    "last_state = np.argmax(V[n-1])\n",
    "prob = V[n-1, last_state]\n",
    "\n",
    "H = np.zeros(n, dtype=int) \n",
    "H[n-1] = last_state \n",
    "for t in range(n-2, -1, -1):\n",
    "  H[t] = B[t+1, H[t+1]]\n",
    "\n",
    "P = np.zeros(n) \n",
    "for t in range(n):\n",
    "  P[t] = np.sum(V[t])\n",
    "\n",
    "print(\"La suma de todas las probabilidades de los estados observables es:\", np.sum(P))\n"
   ]
  },
  {
   "cell_type": "markdown",
   "metadata": {},
   "source": [
    "Esto muestra que el resultado depende de la probabilidad a-priori, ya que se obtiene una secuencia hidden diferente y una probabilidad distinta."
   ]
  },
  {
   "cell_type": "markdown",
   "metadata": {},
   "source": [
    "# Ejercicio: Mínimos cuadrados\n"
   ]
  },
  {
   "cell_type": "markdown",
   "metadata": {},
   "source": [
    "## 1) b."
   ]
  },
  {
   "cell_type": "markdown",
   "metadata": {},
   "source": [
    "Buscar el punto (x,y) que minimice la función:\n",
    "<math xmlns=\"http://www.w3.org/1998/Math/MathML\" display=\"block\"><semantics><mrow><mi>f</mi><mo stretchy=\"false\">(</mo><mi>x</mi><mo separator=\"true\">,</mo><mi>y</mi><mo stretchy=\"false\">)</mo><mo>=</mo><mo stretchy=\"false\">(</mo><mn>2</mn><mi>x</mi><mo>−</mo><mi>y</mi><mo>−</mo><mn>2</mn><msup><mo stretchy=\"false\">)</mo><mn>2</mn></msup><mo>+</mo><mo stretchy=\"false\">(</mo><mi>x</mi><mo>+</mo><mn>2</mn><mi>y</mi><mo>−</mo><mn>1</mn><msup><mo stretchy=\"false\">)</mo><mn>2</mn></msup><mo>+</mo><mo stretchy=\"false\">(</mo><mi>x</mi><mo>+</mo><mi>y</mi><mo>−</mo><mn>4</mn><msup><mo stretchy=\"false\">)</mo><mn>2</mn></msup></mrow><annotation encoding=\"application/x-tex\">f(x,y) = (2x-y-2)^2 + (x+2y-1)^2 + (x+y-4)^2\n",
    "</annotation></semantics></math>\n",
    "\n",
    "<math xmlns=\"http://www.w3.org/1998/Math/MathML\" display=\"block\"><semantics><mrow><mo stretchy=\"false\">(</mo><msub><mi>x</mi><mrow><mi>k</mi><mo>+</mo><mn>1</mn></mrow></msub><mo separator=\"true\">,</mo><msub><mi>y</mi><mrow><mi>k</mi><mo>+</mo><mn>1</mn></mrow></msub><mo stretchy=\"false\">)</mo><mo>=</mo><mo stretchy=\"false\">(</mo><msub><mi>x</mi><mi>k</mi></msub><mo separator=\"true\">,</mo><msub><mi>y</mi><mi>k</mi></msub><mo stretchy=\"false\">)</mo><mo>−</mo><mi>h</mi><mi mathvariant=\"normal\">∇</mi><mi>f</mi><mo stretchy=\"false\">(</mo><msub><mi>x</mi><mi>k</mi></msub><mo separator=\"true\">,</mo><msub><mi>y</mi><mi>k</mi></msub><mo stretchy=\"false\">)</mo></mrow><annotation encoding=\"application/x-tex\">(x_{k+1},y_{k+1}) = (x_k,y_k) - h \\nabla f(x_k,y_k)\n",
    "</annotation></semantics></math>\n",
    "\n",
    "donde \n",
    "<math xmlns=\"http://www.w3.org/1998/Math/MathML\" display=\"block\"><semantics><mrow><mi mathvariant=\"normal\">∇</mi><mi>f</mi><mo stretchy=\"false\">(</mo><msub><mi>x</mi><mi>k</mi></msub><mo separator=\"true\">,</mo><msub><mi>y</mi><mi>k</mi></msub><mo stretchy=\"false\">)</mo><mo>=</mo><mrow><mo fence=\"true\">(</mo><mfrac><mrow><mi mathvariant=\"normal\">∂</mi><mi>f</mi></mrow><mrow><mi mathvariant=\"normal\">∂</mi><mi>x</mi></mrow></mfrac><mo stretchy=\"false\">(</mo><msub><mi>x</mi><mi>k</mi></msub><mo separator=\"true\">,</mo><msub><mi>y</mi><mi>k</mi></msub><mo stretchy=\"false\">)</mo><mo separator=\"true\">,</mo><mfrac><mrow><mi mathvariant=\"normal\">∂</mi><mi>f</mi></mrow><mrow><mi mathvariant=\"normal\">∂</mi><mi>y</mi></mrow></mfrac><mo stretchy=\"false\">(</mo><msub><mi>x</mi><mi>k</mi></msub><mo separator=\"true\">,</mo><msub><mi>y</mi><mi>k</mi></msub><mo stretchy=\"false\">)</mo><mo fence=\"true\">)</mo></mrow></mrow><annotation encoding=\"application/x-tex\">\\nabla f(x_k,y_k) = \\left( \\frac{\\partial f}{\\partial x}(x_k,y_k), \\frac{\\partial f}{\\partial y}(x_k,y_k) \\right)\n",
    "</annotation></semantics></math>"
   ]
  },
  {
   "cell_type": "code",
   "execution_count": 16,
   "metadata": {},
   "outputs": [
    {
     "name": "stdout",
     "output_type": "stream",
     "text": [
      "El punto de mínimo es: (1.4286, 0.4286)\n",
      "El valor mínimo de la función es: 6.4286\n",
      "El número de iteraciones realizadas es: 109\n"
     ]
    },
    {
     "data": {
      "image/png": "[encoded data removed]",
      "text/plain": [
       "<Figure size 432x288 with 1 Axes>"
      ]
     },
     "metadata": {
      "needs_background": "light"
     },
     "output_type": "display_data"
    }
   ],
   "source": [
    "import numpy as np\n",
    "import matplotlib.pyplot as plt\n",
    "\n",
    "def f(x,y):\n",
    "    return (2*x-y-2)**2 + (x+2*y-1)**2 + (x+y-4)**2\n",
    "\n",
    "def grad_f(x,y):\n",
    "    df_dx = 4*(2*x-y-2) + 2*(x+2*y-1) + 2*(x+y-4)\n",
    "    df_dy = -2*(2*x-y-2) + 4*(x+2*y-1) + 2*(x+y-4)\n",
    "    return np.array([df_dx, df_dy])\n",
    "\n",
    "x0 = np.array([-5, -5]) \n",
    "h = 0.01\n",
    "max_iter = 1000 \n",
    "tol = 1e-6 \n",
    "\n",
    "# Inicializar las listas para guardar los valores de x, y y f\n",
    "x_list = [x0[0]]\n",
    "y_list = [x0[1]]\n",
    "f_list = [f(x0[0], x0[1])]\n",
    "\n",
    "for k in range(max_iter):\n",
    "    x_k = np.array([x_list[-1], y_list[-1]]) \n",
    "    x_k1 = x_k - h * grad_f(x_k[0], x_k[1]) \n",
    "    x_list.append(x_k1[0]) \n",
    "    y_list.append(x_k1[1])\n",
    "    f_list.append(f(x_k1[0], x_k1[1])) \n",
    "    if np.linalg.norm(x_k1 - x_k) < tol: \n",
    "        break\n",
    "\n",
    "print(f\"El punto de mínimo es: ({x_list[-1]:.4f}, {y_list[-1]:.4f})\")\n",
    "print(f\"El valor mínimo de la función es: {f_list[-1]:.4f}\")\n",
    "print(f\"El número de iteraciones realizadas es: {len(x_list)}\")\n",
    "\n",
    "plt.plot(f_list, label=\"Distancia\")\n",
    "plt.xlabel(\"Iteración\")\n",
    "plt.ylabel(\"Distancia\")\n",
    "plt.legend()\n",
    "plt.show()\n"
   ]
  },
  {
   "cell_type": "markdown",
   "metadata": {},
   "source": [
    "## 7) a."
   ]
  }
 ],
 "metadata": {
  "kernelspec": {
   "display_name": "base",
   "language": "python",
   "name": "python3"
  },
  "language_info": {
   "codemirror_mode": {
    "name": "ipython",
    "version": 3
   },
   "file_extension": ".py",
   "mimetype": "text/x-python",
   "name": "python",
   "nbconvert_exporter": "python",
   "pygments_lexer": "ipython3",
   "version": "3.8.5"
  }
 },
 "nbformat": 4,
 "nbformat_minor": 2
}
