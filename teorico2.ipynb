{
 "cells": [
  {
   "cell_type": "markdown",
   "metadata": {},
   "source": [
    "# Punto 25\n",
    "(a) Para el polinomio de Laguerre de orden 2, se tiene la siguiente relación de recurrencia:\n",
    "$$\n",
    "L_{n+1}(x)=\\frac{1}{n+1}\\left[(2 n+1-x) L_n(x)-n L_{n-1}(x)\\right]\n",
    "$$\n",
    "\n",
    "Para $n=0$, se tiene $L_0(x)=1$ y para $n=1$, $L_1(x)=1-x$.\n",
    "Sustituyendo estos valores, se obtiene el polinomio de Laguerre de orden 2:\n",
    "$$\n",
    "L_2(x)=\\frac{1}{2}[(2 * 1+1-x)(1-x)-1 * 1]=\\frac{1}{2}\\left(3-2 x-x+x^2-1\\right)=\\frac{1}{2}\\left(x^2-4 x+2\\right)\n",
    "$$\n"
   ]
  },
  {
   "cell_type": "markdown",
   "metadata": {},
   "source": [
    "(b) La fórmula de Rodrigues para los polinomios de Laguerre es:\n",
    "$$\n",
    "L_n(x)=\\frac{e^x}{n !} \\frac{d^n}{d x^n}\\left(x^n e^{-x}\\right)\n",
    "$$\n",
    "Para encontrar las raices del polinomio de Laguerre de orden 2, se debe resolver la ecuación $L_2(x)=0$, donde $L_2(x)=\\frac{1}{2}\\left(x^2-4 x+2\\right)$.\n",
    "Así, se tiene que $x_{1}=2-\\sqrt(2)$ y $x_{2}=2+\\sqrt(2)$"
   ]
  }
 ],
 "metadata": {
  "language_info": {
   "name": "python"
  },
  "orig_nbformat": 4
 },
 "nbformat": 4,
 "nbformat_minor": 2
}
