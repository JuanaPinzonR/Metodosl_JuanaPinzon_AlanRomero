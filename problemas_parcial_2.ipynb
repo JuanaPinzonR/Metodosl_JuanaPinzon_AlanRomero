{
 "cells": [
  {
   "cell_type": "markdown",
   "metadata": {},
   "source": [
    "# Problemas Parcial 2\n"
   ]
  },
  {
   "cell_type": "markdown",
   "metadata": {},
   "source": [
    "# Integración"
   ]
  },
  {
   "cell_type": "markdown",
   "metadata": {},
   "source": [
    "### Problema 7\n",
    "\n",
    "Una forma de generalizar el método de integración del trapecio para una integral doble\n",
    "de una función f(x, y) consiste en dividir el plano xy en un grilla de cuadrados iguales y\n",
    "calcular el promedio del valor de la función de cada uno de los 4 vértices de cada cuadrado\n",
    "pequeño de la grilla. Calcule numéricamente el volumen de una semiesfera de radio\n",
    "R = 1 como sigue:\n",
    "\n",
    "a) Cree una grilla entre $−R$ y $R$ en el plano xy, donde el número de cuadrados en cada\n",
    "lado de la grilla sea $n$. Es decir, la grilla tendría $n + 1$ puntos en cada eje, y $n^{2}$ cuadrados pequeños.\n",
    "\n",
    "b) Para cada cuadrado pequeño calculo el promedio de la función en los cuatro vértices\n",
    "y multiplique por el área del cuadrado pequeño. Si el punto queda fuera de la esfera\n",
    "asuma que el valor de la función $f(x, y)$ es cero."
   ]
  },
  {
   "cell_type": "code",
   "execution_count": 17,
   "metadata": {},
   "outputs": [
    {
     "name": "stdout",
     "output_type": "stream",
     "text": [
      "El volumen de la semiesfera de radio R = 1 es: 2.09384699833374\n"
     ]
    }
   ],
   "source": [
    "import numpy as np\n",
    "\n",
    "def f(x, y):\n",
    "    \n",
    "    if x ** 2 + y ** 2 <= 1:\n",
    "        return np.sqrt(max(0, 1 - x ** 2 - y ** 2))\n",
    "    else:\n",
    "        return 0\n",
    "\n",
    "def calculo_volumen(n):\n",
    "    # Crear la grilla\n",
    "    R = 1\n",
    "    x = np.linspace(-R, R, n + 1)\n",
    "    y = np.linspace(-R, R, n + 1)\n",
    "    dx = x[1] - x[0]\n",
    "    dy = y[1] - y[0]\n",
    "\n",
    "    # Calcular el volumen\n",
    "    volumen = 0\n",
    "    for i in range(n):\n",
    "        for j in range(n):\n",
    "            # Promedio de la función en los cuatro vértices del cuadrado pequeño\n",
    "            promedio = (f(x[i], y[j]) + f(x[i + 1], y[j]) + f(x[i], y[j + 1]) + f(x[i + 1], y[j + 1])) / 4\n",
    "\n",
    "            \n",
    "            volumen += promedio * dx * dy\n",
    "\n",
    "    return volumen\n",
    "\n",
    "n = 100\n",
    "volumen = calculo_volumen(n)\n",
    "print(\"El volumen de la semiesfera de radio R = 1 es:\", volumen)"
   ]
  },
  {
   "cell_type": "markdown",
   "metadata": {},
   "source": [
    "### Problema 10\n"
   ]
  },
  {
   "cell_type": "markdown",
   "metadata": {},
   "source": [
    "La regla de Simpson 3/8 simple muestra a \n",
    "\n",
    " $f^{(4)}(\\xi)$ como la cuarta derivada de $f(x)$ evaluada en algún punto $\\xi$ dentro del intervalo $[a, b]$.\n",
    "\n",
    "Considerar la siguiente integral:\n",
    "\n",
    "$$\\mathcal{I}=\\int_0^{3h}(x)(x-h)(x-2h)(x-3h) dx$$\n",
    "\n",
    "Donde $h$ es el tamaño del intervalo. La integral $\\mathcal{I}$ representa el promedio del valor de la función en los cuatro vértices de cada cuadrado pequeño de la grilla utilizada en el método de Simpson 3/8 simple.\n",
    "\n",
    "Es posible demostrar que:\n",
    "\n",
    "$$\\mathcal{I}=-\\frac{3}{80} h^5 f^{(4)}(\\xi)$$\n",
    "\n",
    "Por lo tanto, el error asociado a la regla de Simpson 3/8 simple se puede expresar como:\n",
    "\n",
    "$$E=\\frac{f^{(4)}(\\xi)}{4!} \\int_a^b\\left(x-x_0\\right)\\left(x-x_1\\right)\\left(x-x_2\\right)\\left(x-x_3\\right) dx=-\\frac{3}{80} h^5 f^{(4)}(\\xi)$$\n",
    "\n"
   ]
  },
  {
   "cell_type": "code",
   "execution_count": 16,
   "metadata": {},
   "outputs": [
    {
     "name": "stdout",
     "output_type": "stream",
     "text": [
      "El error asociado a la regla de Simpson 3/8 simple es: -9/40\n"
     ]
    }
   ],
   "source": [
    "from sympy import symbols, diff, integrate, factorial\n",
    "\n",
    "x = symbols('x')\n",
    "\n",
    "f = x * (x - 1) * (x - 2) * (x - 3)\n",
    "\n",
    "f_4_dx = diff(f, x, 4)\n",
    "\n",
    "integral = integrate((x - 0) * (x - 1) * (x - 2) * (x - 3), (x, 0, 3))\n",
    "\n",
    "error = f_4_dx / (4 * factorial(4)) * integral\n",
    "\n",
    "print(\"El error asociado a la regla de Simpson 3/8 simple es:\", error)\n"
   ]
  },
  {
   "cell_type": "markdown",
   "metadata": {},
   "source": [
    "### Problema 17"
   ]
  },
  {
   "cell_type": "code",
   "execution_count": 27,
   "metadata": {},
   "outputs": [
    {
     "data": {
      "image/png": "[encoded data removed]",
      "text/plain": [
       "<Figure size 432x288 with 1 Axes>"
      ]
     },
     "metadata": {
      "needs_background": "light"
     },
     "output_type": "display_data"
    }
   ],
   "source": [
    "from sympy import symbols, exp, pi\n",
    "from sympy.integrals.quadrature import gauss_laguerre\n",
    "\n",
    "x = symbols('x')\n",
    "f = x**3 / (exp(x) - 1)\n",
    "\n",
    "integral_exacta = pi**4 / 15\n",
    "\n",
    "n_valores = list(range(2, 11))\n",
    "evaluacion_puntos = []\n",
    "errores_relativos = []\n",
    "\n",
    "for n in n_valores:\n",
    "    \n",
    "    nodos, pesos = gauss_laguerre(n, 0)\n",
    "\n",
    "    estimated_integral = sum([pesos * f.subs(x, nodos) for nodos, pesos in zip(nodos, pesos)])\n",
    "\n",
    "    error_relativo = estimated_integral / integral_exacta\n",
    "\n",
    "    evaluacion_puntos.append(n)\n",
    "    \n",
    "    errores_relativos.append(error_relativo)\n",
    "\n",
    "# Graficar \n",
    "import matplotlib.pyplot as plt\n",
    "\n",
    "plt.plot(evaluacion_puntos, errores_relativos)\n",
    "plt.xlabel('Puntos de Evaluación (n)')\n",
    "plt.ylabel('Error Relativo')\n",
    "plt.title('Error Relativo vs. Puntos de Evaluación')\n",
    "plt.show()\n"
   ]
  },
  {
   "cell_type": "markdown",
   "metadata": {},
   "source": [
    "### Problema 18"
   ]
  },
  {
   "cell_type": "markdown",
   "metadata": {},
   "source": [
    "a."
   ]
  },
  {
   "cell_type": "code",
   "execution_count": 29,
   "metadata": {},
   "outputs": [
    {
     "name": "stdout",
     "output_type": "stream",
     "text": [
      "Cero 1: -5.387480890011233, Peso 1: 2.229393645534103e-13\n",
      "Cero 2: -4.603682449550744, Peso 2: 4.399340992273072e-10\n",
      "Cero 3: -3.9447640401156248, Peso 3: 1.0860693707692404e-07\n",
      "Cero 4: -3.3478545673832163, Peso 4: 7.802556478532028e-06\n",
      "Cero 5: -2.7888060584281305, Peso 5: 0.00022833863601635422\n",
      "Cero 6: -2.2549740020892752, Peso 6: 0.0032437733422378237\n",
      "Cero 7: -1.7385377121165861, Peso 7: 0.024810520887463567\n",
      "Cero 8: -1.2340762153953229, Peso 8: 0.10901720602002325\n",
      "Cero 9: -0.7374737285453944, Peso 9: 0.2866755053628341\n",
      "Cero 10: -0.2453407083009012, Peso 10: 0.4622436696006102\n",
      "Cero 11: 0.2453407083009012, Peso 11: 0.4622436696006102\n",
      "Cero 12: 0.7374737285453944, Peso 12: 0.2866755053628341\n",
      "Cero 13: 1.2340762153953229, Peso 13: 0.10901720602002325\n",
      "Cero 14: 1.7385377121165861, Peso 14: 0.024810520887463567\n",
      "Cero 15: 2.2549740020892752, Peso 15: 0.0032437733422378237\n",
      "Cero 16: 2.7888060584281305, Peso 16: 0.00022833863601635422\n",
      "Cero 17: 3.3478545673832163, Peso 17: 7.802556478532028e-06\n",
      "Cero 18: 3.9447640401156248, Peso 18: 1.0860693707692404e-07\n",
      "Cero 19: 4.603682449550744, Peso 19: 4.399340992273072e-10\n",
      "Cero 20: 5.387480890011233, Peso 20: 2.229393645534103e-13\n"
     ]
    }
   ],
   "source": [
    "import numpy as np\n",
    "from scipy.special import roots_hermite\n",
    "\n",
    "n_ceros = 20\n",
    "ceros, pesos = roots_hermite(n_ceros)\n",
    "\n",
    "\n",
    "for i in range(n_ceros):\n",
    "    print(f\"Cero {i+1}: {ceros[i]}, Peso {i+1}: {pesos[i]}\")\n"
   ]
  },
  {
   "cell_type": "markdown",
   "metadata": {},
   "source": [
    "b. utilizar el polinomio de Hermite de orden 1:\n",
    "                                        \n",
    "$H1​(x)=2x$"
   ]
  },
  {
   "cell_type": "code",
   "execution_count": 10,
   "metadata": {},
   "outputs": [
    {
     "name": "stdout",
     "output_type": "stream",
     "text": [
      "Valor cuadrático medio de la posición en el estado n=1: 2.658680776358273\n"
     ]
    }
   ],
   "source": [
    "import numpy as np\n",
    "from scipy.integrate import quad\n",
    "\n",
    "\n",
    "def psi_1(x):\n",
    "    return (1 / np.sqrt(2)) * np.exp(-x**2 / 2) * 2 * x\n",
    "\n",
    "resultado, _ = quad(lambda x: psi_1(x)**2 * x**2, -np.inf, np.inf)\n",
    "\n",
    "print(\"Valor cuadrático medio de la posición en el estado n=1:\", resultado)\n"
   ]
  }
 ],
 "metadata": {
  "kernelspec": {
   "display_name": "base",
   "language": "python",
   "name": "python3"
  },
  "language_info": {
   "codemirror_mode": {
    "name": "ipython",
    "version": 3
   },
   "file_extension": ".py",
   "mimetype": "text/x-python",
   "name": "python",
   "nbconvert_exporter": "python",
   "pygments_lexer": "ipython3",
   "version": "3.8.5"
  },
  "orig_nbformat": 4
 },
 "nbformat": 4,
 "nbformat_minor": 2
}
