{
 "cells": [
  {
   "cell_type": "markdown",
   "metadata": {},
   "source": [
    "**Parcial 1\n",
    "Juana Valeria Pinzon. 202112577\n",
    "Alan Romero. 202212891**\n"
   ]
  },
  {
   "cell_type": "markdown",
   "metadata": {},
   "source": [
    "**a.** Implemente el algoritmo de Muller para encontrar la raíz de la función:\n",
    "f(x) = e^−x − x "
   ]
  },
  {
   "cell_type": "code",
   "execution_count": 40,
   "metadata": {},
   "outputs": [
    {
     "name": "stdout",
     "output_type": "stream",
     "text": [
      "La raíz encontrada es: 0.567143\n",
      "Se necesitaron 3 iteraciones para encontrar la raíz\n"
     ]
    }
   ],
   "source": [
    "import numpy as np \n",
    "tol=0.00001\n",
    "\n",
    "def f(x):\n",
    "    expresion = -x+np.e**(-x)\n",
    "    return expresion\n",
    "\n",
    "def muller(x0, x1, x2, tol):\n",
    "    h1 = x1 - x0\n",
    "    h2 = x2 - x1\n",
    "    d1 = (f(x1) - f(x0)) / h1\n",
    "    d2 = (f(x2) - f(x1)) / h2\n",
    "    d = (d2 - d1) / (h2 + h1)\n",
    "    i = 0\n",
    "    while abs(h2) > tol:\n",
    "        b = d2 + h2 * d\n",
    "        D = np.sqrt(b * b - 4 * f(x2) * d)\n",
    "        if abs(b - D) < abs(b + D):\n",
    "            E = b + D\n",
    "        else:\n",
    "            E = b - D\n",
    "        h = -2 * f(x2) / E\n",
    "        p = x2 + h\n",
    "        x0 = x1\n",
    "        x1 = x2\n",
    "        x2 = p\n",
    "        h1 = x1 - x0\n",
    "        h2 = x2 - x1\n",
    "        d1 = (f(x1) - f(x0)) / h1\n",
    "        d2 = (f(x2) - f(x1)) / h2\n",
    "        d = (d2 - d1) / (h2 + h1)\n",
    "        i += 1\n",
    "    return p, i\n",
    "\n",
    "root, iterations = muller(0, 0.5, 1, tol)\n",
    "print(f\"La raíz encontrada es: {root:.6f}\")\n",
    "print(f\"Se necesitaron {iterations} iteraciones para encontrar la raíz\")"
   ]
  },
  {
   "cell_type": "markdown",
   "metadata": {},
   "source": [
    "**Respuesta:**\n",
    " La raíz encontrada es: 0.567143\n",
    "Se necesitaron 3 iteraciones para encontrar la raíz."
   ]
  },
  {
   "cell_type": "markdown",
   "metadata": {},
   "source": [
    "**b.** Use el teorema de Boltzano para determinar dos valores x0, x1 tal que f(x0)f(x1) < 0"
   ]
  },
  {
   "cell_type": "code",
   "execution_count": 41,
   "metadata": {},
   "outputs": [
    {
     "name": "stdout",
     "output_type": "stream",
     "text": [
      "Los valores x0 y x1 son: 0.567138671875 0.5671539306640625\n"
     ]
    }
   ],
   "source": [
    "def has_sign_change(f, a, b):\n",
    "    return f(a) * f(b) < 0\n",
    "\n",
    "# Función para encontrar los valores x0 y x1\n",
    "def find_x0_x1(f, a, b, tol):\n",
    "    if not has_sign_change(f, a, b):\n",
    "        return None, None\n",
    "\n",
    "    while (b - a) / 2.0 > tol:\n",
    "        c = (a + b) / 2.0\n",
    "        if f(c) == 0:\n",
    "            return c, c\n",
    "        elif f(c) * f(a) < 0:\n",
    "            b = c\n",
    "        else:\n",
    "            a = c\n",
    "\n",
    "    return a, b\n",
    "\n",
    "x0, x1 = find_x0_x1(f, 0, 1, tol)\n",
    "\n",
    "if x0 is not None and x1 is not None:\n",
    "    print(\"Los valores x0 y x1 son:\", x0, x1)\n",
    "else:\n",
    "    print(\"No se encontró cambio de signo en el intervalo [a, b].\")"
   ]
  },
  {
   "cell_type": "markdown",
   "metadata": {},
   "source": [
    "**Respuesta:**\n",
    "Los valores x0 y x1 son: 0.567138671875 0.5671539306640625\n"
   ]
  },
  {
   "cell_type": "markdown",
   "metadata": {},
   "source": [
    "**c.** Defina x2 como el punto medio de x0 y x1."
   ]
  },
  {
   "cell_type": "code",
   "execution_count": 42,
   "metadata": {},
   "outputs": [
    {
     "name": "stdout",
     "output_type": "stream",
     "text": [
      "Los valores x0 y x1 son: 0.567138671875 0.5671539306640625\n",
      "El valor x2 como punto medio entre x0 y x1 es: 0.5671463012695312\n"
     ]
    }
   ],
   "source": [
    "# Calcula x0 y x1 usando la función find_x0_x1\n",
    "x0, x1 = find_x0_x1(f, 0, 1, tol)\n",
    "\n",
    "# Calcula x2 como el punto medio entre x0 y x1\n",
    "x2 = (x0 + x1) / 2\n",
    "\n",
    "if x0 is not None and x1 is not None:\n",
    "    print(\"Los valores x0 y x1 son:\", x0, x1)\n",
    "    print(\"El valor x2 como punto medio entre x0 y x1 es:\", x2)\n",
    "else:\n",
    "    print(\"No se encontró cambio de signo en el intervalo [a, b].\")\n"
   ]
  },
  {
   "cell_type": "markdown",
   "metadata": {},
   "source": [
    "**Respuesta:**\n",
    "Los valores x0 y x1 son: 0.567138671875 0.5671539306640625\n",
    "El valor x2 como punto medio entre x0 y x1 es: 0.5671463012695312\n"
   ]
  },
  {
   "cell_type": "markdown",
   "metadata": {},
   "source": [
    "**d.** Encuentre x3 según el algoritmo."
   ]
  },
  {
   "cell_type": "code",
   "execution_count": 47,
   "metadata": {},
   "outputs": [
    {
     "name": "stdout",
     "output_type": "stream",
     "text": [
      "La nueva aproximación es: 0.567143\n"
     ]
    }
   ],
   "source": [
    "def muller2(x0, x1, x2):\n",
    "    h1 = x1 - x0\n",
    "    h2 = x2 - x1\n",
    "    d1 = (f(x1) - f(x0)) / h1\n",
    "    d2 = (f(x2) - f(x1)) / h2\n",
    "    d = (d2 - d1) / (h2 + h1)\n",
    "    b = d2 + h2 * d\n",
    "    D = np.sqrt(b * b - 4 * f(x2) * d)\n",
    "    if abs(b - D) < abs(b + D):\n",
    "        E = b + D\n",
    "    else:\n",
    "        E = b - D\n",
    "    h = -2 * f(x2) / E\n",
    "    x3 = x2 + h\n",
    "    return x3\n",
    "\n",
    "x3 = muller2(x0, x1, x2)\n",
    "print(f\"La nueva aproximación es: {x3:.6f}\")\n"
   ]
  },
  {
   "cell_type": "markdown",
   "metadata": {},
   "source": [
    "**Respuesta:**\n",
    "El valor de x3 es: 0.567143"
   ]
  },
  {
   "cell_type": "markdown",
   "metadata": {},
   "source": [
    "**e.** Use el siguiente criterio de parada:\n",
    "$\\epsilon = |f(x3)|< 1 × 10^{-10}$\n",
    "La rutina se debe detener si no converge en 100 iteraciones"
   ]
  },
  {
   "cell_type": "code",
   "execution_count": null,
   "metadata": {},
   "outputs": [],
   "source": [
    "def nuevo_muller(x0, x1, x2, tol, max_iter):\n",
    "    h1 = x1 - x0\n",
    "    h2 = x2 - x1\n",
    "    d1 = (f(x1) - f(x0)) / h1\n",
    "    d2 = (f(x2) - f(x1)) / h2\n",
    "    d = (d2 - d1) / (h2 + h1)\n",
    "    i = 0\n",
    "    while abs(f(x2)) > tol and i < max_iter:\n",
    "        b = d2 + h2 * d\n",
    "        D = np.sqrt(b * b - 4 * f(x2) * d)\n",
    "        if abs(b - D) < abs(b + D):\n",
    "            E = b + D\n",
    "        else:\n",
    "            E = b - D\n",
    "        h = -2 * f(x2) / E\n",
    "        p = x2 + h\n",
    "        x0 = x1\n",
    "        x1 = x2\n",
    "        x2 = p\n",
    "        h1 = x1 - x0\n",
    "        h2 = x2 - x1\n",
    "        d1 = (f(x1) - f(x0)) / h1\n",
    "        d2 = (f(x2) - f(x1)) / h2\n",
    "        d = (d2 - d1) / (h2 + h1)\n",
    "        i += 1\n",
    "    if i == max_iter:\n",
    "        print(\"El método no convergió en el número máximo de iteraciones\")\n",
    "    return p, i\n",
    "\n",
    "root, iterations = nuevo_muller(x0, x1, x2, tol, 100)\n",
    "print(f\"La raíz encontrada es: {root:.6f}\")\n",
    "print(f\"Se necesitaron {iterations} iteraciones para encontrar la raíz\")"
   ]
  },
  {
   "cell_type": "markdown",
   "metadata": {},
   "source": [
    "**Respuesta:**\n",
    " La raiz encontrada es: 0.567143"
   ]
  }
 ],
 "metadata": {
  "kernelspec": {
   "display_name": "base",
   "language": "python",
   "name": "python3"
  },
  "language_info": {
   "codemirror_mode": {
    "name": "ipython",
    "version": 3
   },
   "file_extension": ".py",
   "mimetype": "text/x-python",
   "name": "python",
   "nbconvert_exporter": "python",
   "pygments_lexer": "ipython3",
   "version": "3.8.5"
  },
  "orig_nbformat": 4
 },
 "nbformat": 4,
 "nbformat_minor": 2
}
