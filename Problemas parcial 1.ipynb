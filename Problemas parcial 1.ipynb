{
 "cells": [
  {
   "cell_type": "markdown",
   "metadata": {},
   "source": [
    "# Problemas parcial 1"
   ]
  },
  {
   "cell_type": "code",
   "execution_count": 151,
   "metadata": {},
   "outputs": [],
   "source": [
    "import numpy as np\n",
    "import matplotlib.pyplot as plt\n",
    "import sympy as sym"
   ]
  },
  {
   "cell_type": "markdown",
   "metadata": {},
   "source": [
    "## Derivación"
   ]
  },
  {
   "cell_type": "markdown",
   "metadata": {},
   "source": [
    "### Problema 5\n",
    "\n",
    "(**Theoretical**) Show that the $D^{4}f$ operator is given by:\n",
    "$$\n",
    "D^4f(x_{j})≅\\frac{f(x_{j+2})-4f(x_{j+1})+6f(x_{j})-4f(x_{j-1})+f(x_{j-2})}{h^4}\n",
    "$$\n",
    "For this operator, what is the order $(O(h^k))$ of the approximation?"
   ]
  },
  {
   "cell_type": "markdown",
   "metadata": {},
   "source": [
    "En primer lugar, se tiene que la primera derivada de $f(x)$ es\n",
    "$$\n",
    "f'(x)=\\frac{f(x+1)-f(x)}{h}\n",
    "$$\n",
    "\n",
    "Luego, la segunda derivada será\n",
    "$$\n",
    "f''(x)=\\frac{f'(x+1)-f'(x)}{h}=\\frac{\\frac{f(x+1+1)-f(x+1)}{h}-\\frac{f(x+1)-f(x)}{h}}{h}\n",
    "$$\n",
    "\n",
    "$$\n",
    "f''(x)=\\frac{f(x+2)-2f(x+1)+f(x)}{h^2}\n",
    "$$\n",
    "\n",
    "$$\n",
    "f''(x)=\\frac{f(x_{j+1})-2f(x_{j})+f(x_{j-1})}{h^2}\n",
    "$$\n",
    "\n",
    "Como las derivadas pares presentan simetría entre sí, y usando la notación de discretización de puntos nodales, se tiene que la cuarta derivada corresponde a la segunda derivada evaluada en sí misma\n",
    "\n",
    "$$\n",
    "f^{IV}(x)=\\frac{f''(x_{j+1})-2f''(x_{j})+f''(x_{j-1})}{h^2}\n",
    "$$\n",
    "\n",
    "De esta manera, se tiene\n",
    "$$\n",
    "f''(x_{j+1})=\\frac{f(x_{j+1+1})-2f(x_{j+1})+f(x_{j+1-1})}{h^2}=\\frac{f(x_{j+2})-2f(x_{j+1})+f(x_{j})}{h^2}\n",
    "$$\n",
    "\n",
    "$$\n",
    "f''(x_{j})=\\frac{f(x_{j+1})-2f(x_{j})+f(x_{j-1})}{h^2}\n",
    "$$\n",
    "\n",
    "$$\n",
    "f''(x_{j-1})=\\frac{f(x_{j-1+1})-2f(x_{j-1})+f(x_{j-1-1})}{h^2}=\\frac{f(x_{j})-2f(x_{j-1})+f(x_{j-2})}{h^2}\n",
    "$$\n",
    "\n",
    "Reemplazando, la derivada queda como\n",
    "$$\n",
    "f^{IV}(x)=\\frac{\\frac{f(x_{j+2})-2f(x_{j+1})+f(x_{j})}{h^2}-2\\frac{f(x_{j+1})-2f(x_{j})+f(x_{j-1})}{h^2}+\\frac{f(x_{j})-2f(x_{j-1})+f(x_{j-2})}{h^2}}{h^2}\n",
    "$$\n",
    "\n",
    "$$\n",
    "f^{IV}(x)=\\frac{\\frac{f(x_{j+2})-2f(x_{j+1})+f(x_{j})-2f(x_{j+1})+4f(x_{j})-2f(x_{j-1})+f(x_{j})-2f(x_{j-1})+f(x_{j-2})}{h^2}}{h^2}\n",
    "$$\n",
    "\n",
    "$$\n",
    "f^{IV}(x)=\\frac{f(x_{j+2})-4f(x_{j+1})+6f(x_{j})-4f(x_{j-1})+f(x_{j-2})}{h^4}\n",
    "$$\n",
    "\n",
    "\\\n",
    "Por otro lado, según la serie de Taylor, se tiene que el error de la estimación para $f(x)$ es $h_{0}=\\frac{h^0}{2!}$\\\n",
    "Además, el error para $f'(x)$ es $h_{1}=\\frac{h^1}{2!}$\n",
    "\\\n",
    "De esta manera, se puede calcular los errores para las siguientes derivadas multiplicando los errores de las dos derivadas anteriores.\\\n",
    "Así, se tiene que el error de la segunda derivada es\n",
    "$$\n",
    "h_{2}=h_{0}×h_{1}=\\frac{h^0}{2!}×\\frac{h^1}{2!}=\\frac{h^1}{(2!)^2}\n",
    "$$\n",
    "\n",
    "Luego, el error de la tercera derivada es\n",
    "$$\n",
    "h_{3}=h_{1}×h_{2}=\\frac{h^1}{2!}×\\frac{h^1}{(2!)^2}=\\frac{h^2}{(2!)^3}\n",
    "$$\n",
    "\n",
    "Finalmente, el error de la cuarta derivada es\n",
    "$$\n",
    "h_{4}=h_{2}×h_{3}=\\frac{h^1}{(2!)^2}×\\frac{h^2}{(2!)^3}=\\frac{h^3}{(2!)^4}\n",
    "$$\n",
    "\n",
    "Por lo tanto, se tiene que el error de la aproximación es de tercer orden."
   ]
  },
  {
   "cell_type": "markdown",
   "metadata": {},
   "source": [
    "### Problema 8\n",
    "\n",
    "Es posible construir una aproximación de orden O(h^2) para la derivada progresiva. Para tal propósito, se escribe el polinomio de interpolación de grado 2 para el conjunto soporte $\\Omega = {(x_{0},f(x_{0})),(x_{1},f(x_{1})),(x_{2},f(x_{2}))}$, y posteriormente se calcula la derivada de este polinomio."
   ]
  },
  {
   "cell_type": "code",
   "execution_count": 131,
   "metadata": {},
   "outputs": [],
   "source": [
    "x=np.linspace(0.1,1.1,100)\n",
    "h=0.01"
   ]
  },
  {
   "cell_type": "markdown",
   "metadata": {},
   "source": [
    "**a)** Calcular analíticamente el polinomio que interpola el conjunto soporte.\n",
    "    En primer lugar, se deben calcular las bases polinómicas del polinomio\n",
    "    $$\n",
    "    L_{0}=\\frac{(x-x_{1})(x-x_{2})}{(x_{0}-x_{1})(x_{0}-x_{2})}\\\\\n",
    "    L_{1}=\\frac{(x-x_{0})(x-x_{2})}{(x_{1}-x_{0})(x_{1}-x_{2})}\\\\\n",
    "    L_{2}=\\frac{(x-x_{0})(x-x_{1})}{(x_{2}-x_{0})(x_{2}-x_{1})}\\\\\n",
    "    $$\n",
    "    \\\n",
    "    Con estas, se puede calcular el polinomio como sigue:\n",
    "    $$\n",
    "    P_{3}=f(x_{0})L_{0}+f(x_{1})L_{1}+f(x_{2})L_{2}\n",
    "    $$\n",
    "    $$\n",
    "    P_{3}=f(x_{0})\\frac{(x-x_{1})(x-x_{2})}{(x_{0}-x_{1})(x_{0}-x_{2})}+f(x_{1})\\frac{(x-x_{0})(x-x_{2})}{(x_{1}-x_{0})(x_{1}-x_{2})}+f(x_{2})\\frac{(x-x_{0})(x-x_{1})}{(x_{2}-x_{0})(x_{2}-x_{1})}\n",
    "    $$\n",
    "    $$\n",
    "    P_{3}=f(x_{0})×\\frac{x^2-(x_{1}+x_{2})x+x_{1}x_{2}}{x_{0}^2-(x_{1}+x_{2})x_{0}+x_{1}x_{2}}\n",
    "    +\n",
    "    f(x_{1})×\\frac{x^2-(x_{0}+x_{2})x+x_{0}x_{2}}{x_{1}^2-(x_{0}+x_{2})x_{1}+x_{0}x_{2}}\n",
    "    +\n",
    "    f(x_{2})×\\frac{x^2-(x_{0}+x_{1})x+x_{0}x_{1}}{x_{2}^2-(x_{0}+x_{1})x_{2}+x_{0}x_{1}}\n",
    "    $$    \n",
    "    $$\n",
    "    P_{3}=\\frac{f(x_{0})x^2-(x_{1}+x_{2})f(x_{0})x+x_{1}x_{2}f(x_{0})}{x_{0}^2f(x_{0})-(x_{1}+x_{2})x_{0}f(x_{0})+x_{1}x_{2}f(x_{0})}\n",
    "    +\n",
    "    \\frac{f(x_{1})x^2-(x_{0}+x_{2})f(x_{1})x+x_{0}x_{2}f(x_{1})}{x_{1}^2f(x_{1})-(x_{0}+x_{2})x_{1}f(x_{1})+x_{0}x_{2}f(x_{1})}\n",
    "    +\n",
    "    \\frac{f(x_{2})x^2-(x_{0}+x_{1})f(x_{2})x+x_{0}x_{1}f(x_{2})}{x_{2}^2f(x_{2})-(x_{0}+x_{1})x_{2}f(x_{2})+x_{0}x_{1}f(x_{2})}\n",
    "    $$"
   ]
  },
  {
   "cell_type": "markdown",
   "metadata": {},
   "source": [
    "**b)** Derivar el polinomio interpolador para encontrar la derivada en el punto $x_{0}$:\\\n",
    "    $$\n",
    "    f'(x_{0})≈p'(x_{0})=\\frac{1}{2h}(-3f(x_{0})+4f(x_{1})-f(x_{2}))\n",
    "    $$\n",
    "    Si la discretización es equidistante, tenemos:\n",
    "    $$\n",
    "    f'(x)≅\\frac{1}{2h}(-3f(x)+4f(x+h)-f(x+2h))\n",
    "    $$\n",
    "    De esta manera, se tiene:\n",
    "    $$\n",
    "    P'(x)=f(x_{0})\\frac{(x-x_{1})+(x-x_{2})}{(x_{0}-x_{1})(x_{0}-x_{2})}+f(x_{1})\\frac{(x-x_{0})+(x-x_{2})}{(x_{1}-x_{0})(x_{1}-x_{2})}+f(x_{2})\\frac{(x-x_{0})+(x-x_{1})}{(x_{2}-x_{0})(x_{2}-x_{1})}\n",
    "    $$\n",
    "    Sabiendo que $x=x_{0}$ $x_{1}=x_{0}+h$ y $x_{2}=x_{0}+2h$\n",
    "    \\\n",
    "    Se puede simplificar reemplazando\n",
    "    $$\n",
    "    P'(x)=f(x_{0})\\frac{(x_{0}-x_{0}-h)+(x_{0}-x_{0}-2h)}{(x_{0}-x_{0}-h)(x_{0}-x_{0}-2h)}+f(x_{1})\\frac{(x_{0}-x_{0})+(x_{0}-x_{0}-2h)}{(x_{0}+h-x_{0})(x_{0}+h-x_{0}-2h)}+f(x_{2})\\frac{(x_{0}-x_{0})+(x_{0}-x_{0}-h)}{(x_{0}+2h-x_{0})(x_{0}+2h-x_{0}-h)}\n",
    "    $$\n",
    "    $$\n",
    "    P'(x)=f(x_{0})\\frac{-3h}{(-h)(-2h)}+f(x_{1})\\frac{-2h}{(h)(-h)}+f(x_{2})\\frac{-h}{(2h)(h)}\n",
    "    $$\n",
    "    $$\n",
    "    P'(x)=f(x_{0})\\frac{-3}{2h}+f(x_{1})\\frac{2}{h}+f(x_{2})\\frac{-1}{2h}\n",
    "    $$\n",
    "    $$\n",
    "    P'(x)=f(x_{0})\\frac{-3}{2h}+f(x_{1})\\frac{4}{2h}-f(x_{2})\\frac{1}{2h}\n",
    "    $$\n",
    "    $$\n",
    "    P'(x)=\\frac{1}{2h}[-3f(x_{0})+4f(x_{1})-f(x_{2})]\n",
    "    $$"
   ]
  },
  {
   "cell_type": "markdown",
   "metadata": {},
   "source": [
    "**c)** **(Python)** Para $f(x)= \\sqrt{tan(x)}$ estimar la derivada progresiva de orden $O(h^2)$ (expresión anterior) en el intervalo $[0.1; 1.1]$ con $h=0.01$."
   ]
  },
  {
   "cell_type": "code",
   "execution_count": 127,
   "metadata": {},
   "outputs": [],
   "source": [
    "def funcion(t):\n",
    "    f=np.sqrt(np.tan(t))\n",
    "    return f\n",
    "\n",
    "def progresiva(f,t):\n",
    "    derivada=(1/(2*h))*(-3*f(t)+4*f(t+h)-f(t+2*h))\n",
    "    return derivada\n",
    "\n",
    "der_progre=progresiva(funcion, x)"
   ]
  },
  {
   "cell_type": "markdown",
   "metadata": {},
   "source": [
    "**d)** **(Python)** Para $f(x)=\\sqrt{tan(x)}$ estimar la derivada central de orden $O(h^2)$ en el intervalo $[0.1; 1.1]$ con $h=0.01$."
   ]
  },
  {
   "cell_type": "code",
   "execution_count": 128,
   "metadata": {},
   "outputs": [],
   "source": [
    "def DerivadaCentral(f,t):\n",
    "    d = 0\n",
    "    if h != 0:\n",
    "        d=(f(t+h) - f(t-h))/(2*h)\n",
    "        \n",
    "    return d\n",
    "\n",
    "der_cent=DerivadaCentral(funcion,x)"
   ]
  },
  {
   "cell_type": "markdown",
   "metadata": {},
   "source": [
    "**e)** Calcule analíticamente la derivada de la función $f(x)$, y grafique con la estimación central y progresiva de orden $O(h^2)$.\\\n",
    "La derivada de $f(x)$ corresponde a\n",
    "$$\n",
    "f'(x)=\\frac{[tan(x)]'}{2\\sqrt{tan(x)}}\n",
    "$$\n",
    "$$\n",
    "f'(x)=\\frac{sec^2(x)}{2\\sqrt{tan(x)}}\n",
    "$$"
   ]
  },
  {
   "cell_type": "code",
   "execution_count": 142,
   "metadata": {},
   "outputs": [
    {
     "data": {
      "text/plain": [
       "<Figure size 5760x2880 with 0 Axes>"
      ]
     },
     "execution_count": 142,
     "metadata": {},
     "output_type": "execute_result"
    },
    {
     "data": {
      "image/png": "[encoded data removed]",
      "text/plain": [
       "<Figure size 432x288 with 1 Axes>"
      ]
     },
     "metadata": {
      "needs_background": "light"
     },
     "output_type": "display_data"
    },
    {
     "data": {
      "text/plain": [
       "<Figure size 5760x2880 with 0 Axes>"
      ]
     },
     "metadata": {},
     "output_type": "display_data"
    }
   ],
   "source": [
    "def derivada(x):\n",
    "    numerador=1/np.cos(x)\n",
    "    numerador **= 2\n",
    "    denominador=np.sqrt(np.tan(x))\n",
    "    denominador *= 2\n",
    "    resultado = numerador/denominador\n",
    "    return resultado\n",
    "\n",
    "der = derivada(x)\n",
    "\n",
    "plt.plot(x,der, label=\"Derivada\", color=\"red\", linewidth=1)\n",
    "plt.scatter(x,der_progre, label=\"Derivada progresiva\",s=11)\n",
    "plt.scatter(x,der_cent, label=\"Derivada central\", s=11)\n",
    "plt.legend(prop={'size':7.5}, loc='lower right')\n",
    "plt.title(\"Derivadas de f(x)\")\n",
    "plt.xlabel(\"x\")\n",
    "plt.ylabel(\"y\")\n",
    "plt.figure(figsize=(80,40))\n"
   ]
  },
  {
   "cell_type": "markdown",
   "metadata": {},
   "source": [
    "**f)** Grafique el error nodal para ambas aproximaciones. ¿Tienen efectivamente el mismo orden de precisión ambos resultados?\n"
   ]
  },
  {
   "cell_type": "code",
   "execution_count": 152,
   "metadata": {},
   "outputs": [
    {
     "name": "stdout",
     "output_type": "stream",
     "text": [
      "Las derivadas tienen el mismo orden de precisión\n"
     ]
    },
    {
     "data": {
      "image/png": "[encoded data removed]",
      "text/plain": [
       "<Figure size 432x288 with 1 Axes>"
      ]
     },
     "metadata": {
      "needs_background": "light"
     },
     "output_type": "display_data"
    },
    {
     "data": {
      "text/plain": [
       "<Figure size 5760x2880 with 0 Axes>"
      ]
     },
     "metadata": {},
     "output_type": "display_data"
    }
   ],
   "source": [
    "error_progre=abs(der-der_progre)\n",
    "error_cent=abs(der-der_cent)\n",
    "plt.plot(x,error_progre, label=\"error de la derivada progresiva\")\n",
    "plt.plot(x,error_cent, label=\"error de la derivada central\")\n",
    "plt.legend(prop={'size':10}, loc='upper right')\n",
    "plt.title(\"Errores nodales\")\n",
    "plt.xlabel(\"x\")\n",
    "plt.ylabel(\"y\")\n",
    "plt.figure(figsize=(80,40))\n",
    "print(\"Las derivadas tienen el mismo orden de precisión\")"
   ]
  },
  {
   "cell_type": "markdown",
   "metadata": {},
   "source": [
    "## Raíces de polinomios\n",
    "### Problema 3\n",
    "Calcular todas las raíces reales de:\n",
    "$$\n",
    "f(x)=3x^5+5x^4-x^3\n",
    "$$"
   ]
  },
  {
   "cell_type": "code",
   "execution_count": 153,
   "metadata": {},
   "outputs": [
    {
     "name": "stdout",
     "output_type": "stream",
     "text": [
      "Raíces convergentes encontradas en el rango: [-1.8471270883830362, -1.8471270883830364, -1.8471270883830366, -1.8471270883830366, -1.8471270883830369, -1.8471270883830364, -1.8471270883830369, -1.8471270883830364, -1.8471270883830366, -1.8471270883830366, -1.8471270883830366, -1.8471270883830366, -1.8471270883830364, -1.8471270883830366, -1.8471270883830366, -1.8471270883830366, -1.8471270883830366, -1.8471270883830369, -1.8471270883830366, -1.8471270883830366, -1.8471270883830364, -1.8471270883830369, -1.8471270883830364, -1.8471270883830369, -1.8471270883830366, -1.8471270883830369, -1.8471270883830366, -1.8471270883830366, -1.8471270883830369, -1.8471270883830369, -1.8471270883830369, -1.8471270883830364, -1.8471270883830366, -1.8471270883830366, -1.8471270883830369, -1.8471270883830369, -1.8471270883830366, -1.8471270883830369, -1.8471270883830366, -1.8471270883830369, -1.8471270883830366, -1.8471270883830366, -1.8471270883830369, -1.8471270883830364, -1.8471270883830364, -1.8471270883830366, -1.8471270883830369, -1.8471270883830364, -1.8471270883830362, -1.8471270883830364, -1.8471270883830366, -1.8471270883830366, -1.8471270883830369, -1.8471270883830364, -1.8471270883830364, -1.8471270883830364, -1.8471270883830366, -1.8471270883830362, -1.8471270883830366, -1.8471270883830366, -1.8471270883830366, -1.8471270883830366, -1.8471270883830366, -1.8471270883830369, -1.8471270883830366, -1.8471270883830364, -1.8471270883830364, -1.8471270883830362, -1.8471270883830366, -1.8471270883830369, -1.8471270883830364, -1.8471270883830369, -1.8471270883830369, -1.8471270883830364, -1.8471270883830364, -1.8471270883830366, -1.8471270883830369, -1.8471270883830369, -1.8471270883830366, -1.8471270883830369, -1.8471270883830369, -1.8471270883830369, -1.8471270883830369, -1.8471270883830366, -1.8471270883830369, -1.8471270883830369, -1.8471270883830366, -1.8471270883830366, -1.8471270883830366, -1.8471270883830369, -1.8471270883830366, -1.8471270883830366, -1.8471270883830369, -1.8471270883830369, -1.8471270883830369, -1.8471270883830369, -1.8471270883830369, -1.8471270883830366, -1.8471270883830364, 0.18046042171636997, 0.18046042171636995, 0.18046042171636995, 0.18046042171636995, 0.18046042171636995, 0.18046042171636997, 0.18046042171636995, 0.18046042171636995, 0.18046042171636995, 0.18046042171636995, 0.18046042171636995, 0.18046042171636997, 0.18046042171636992, 0.18046042171636995, 0.18046042171636995, 0.18046042171636995, 0.18046042171636992, 0.18046042171636995, 0.18046042171636995, 0.18046042171636995, 0.18046042171636995, 0.18046042171636997, 0.18046042171636992, 0.18046042171636995, 0.18046042171636995, 0.18046042171636995, 0.18046042171636995, 0.18046042171636997, 0.18046042171636995, 0.18046042171636992, 0.18046042171636995, 0.18046042171636997, 0.18046042171637, 0.18046042171636995, 0.18046042171636995, 0.18046042171636995, 0.18046042171636995, 0.18046042171636997, 0.18046042171636995, 0.18046042171636995, 0.18046042171636997, 0.18046042171636992, 0.18046042171636995, 0.18046042171636992, 0.18046042171636995, 0.18046042171636997, 0.18046042171636995, 0.18046042171636997, 0.18046042171636995, 0.18046042171636992, 0.18046042171636995, 0.18046042171636992, 0.18046042171636997, 0.18046042171636995, 0.18046042171636995, 0.18046042171636995, 0.18046042171636995, 0.18046042171636997, 0.18046042171636997, 0.18046042171636995, 0.18046042171636992, 0.18046042171636992, 0.18046042171636997, 0.18046042171636995, 0.18046042171636995, 0.18046042171636992, 0.18046042171636997, 0.18046042171636992, 0.18046042171636995, 0.18046042171636992, 0.18046042171636995, 0.18046042171636995, 0.18046042171636995, 0.18046042171636995, 0.18046042171636997, 0.18046042171636997, 0.18046042171636995, 0.18046042171636995, 0.18046042171636995, 0.18046042171636995, 0.18046042171636995, 0.18046042171636995, 0.18046042171636992, 0.18046042171636992, 0.18046042171636997, 0.18046042171636992, 0.18046042171636995, 0.18046042171636995, 0.18046042171636995, 0.18046042171636995, 0.18046042171636995, 0.18046042171636995, 0.18046042171636995, 0.18046042171636995, 0.18046042171636995, 0.18046042171636995, 0.18046042171636995, 0.18046042171636995, 0.18046042171636992, 0.18046042171636997]\n",
      "Raíces convergentes encontradas cerca de las suposiciones: [-1.8471270883830366, 0.18046042171636995, 0.18046042171636995]\n"
     ]
    }
   ],
   "source": [
    "def derivar_funcion(funcion):\n",
    "    \n",
    "    # Define la variable simbólica x\n",
    "    x = sym.symbols('x')\n",
    "\n",
    "    # Calcula la derivada de la función con respecto a x\n",
    "    derivada = sym.diff(funcion(x), x)\n",
    "\n",
    "    # Convierte la derivada en una función numérica\n",
    "    derivada_funcion = sym.lambdify(x, derivada, 'numpy')\n",
    "\n",
    "    return derivada_funcion\n",
    "\n",
    "def Hallar_raices_rango(Funcion, rango, tol=1e-9, max_iter=100):\n",
    "    \"\"\"\n",
    "    Encuentra las raíces de una función en un rango utilizando el método de Newton-Raphson.\n",
    "\n",
    "    Parámetros:\n",
    "    Funcion (función): La función de la cual quieres encontrar las raíces.\n",
    "    rango (tuple): El rango (inicio, fin) en el que buscar raíces.\n",
    "    tol (float): Tolerancia para el criterio de parada (por defecto es 1e-6).\n",
    "    max_iter (int): Número máximo de iteraciones por raíz (por defecto es 100).\n",
    "\n",
    "    Retorna:\n",
    "    raices (list): Una lista de las raíces encontradas o None si no se encuentran raíces en el rango.\n",
    "    \"\"\"\n",
    "    raices = []\n",
    "    inicio, fin = rango\n",
    "    raices_encontradas = False\n",
    "\n",
    "    dF = derivar_funcion(Funcion)\n",
    "\n",
    "    for x_inicial in range(int(inicio), int(fin) + 1):\n",
    "        x = x_inicial\n",
    "        for _ in range(max_iter):\n",
    "            derivada_x = dF(x)\n",
    "\n",
    "            if abs(derivada_x) < 1e-10:\n",
    "                break\n",
    "\n",
    "            x_new = x - (Funcion(x) / derivada_x)\n",
    "            if abs(x_new - x) < tol:\n",
    "                raices.append(x_new)\n",
    "                raices_encontradas = True\n",
    "                break\n",
    "            x = x_new\n",
    "\n",
    "    if raices_encontradas:\n",
    "        return raices\n",
    "    else:\n",
    "        return None\n",
    "\n",
    "def Hallar_raices_suponiendo(Funcion, suposiciones_iniciales, tol=1e-9, max_iter=100):\n",
    "    \"\"\"\n",
    "    Encuentra las raíces de una función utilizando el método de Newton-Raphson con suposiciones iniciales.\n",
    "\n",
    "    Parámetros:\n",
    "    Funcion (función): La función de la cual quieres encontrar las raíces.\n",
    "    suposiciones_iniciales (list): Una lista de suposiciones iniciales para las raíces.\n",
    "    tol (float): Tolerancia para el criterio de parada (por defecto es 1e-6).\n",
    "    max_iter (int): Número máximo de iteraciones por raíz (por defecto es 100).\n",
    "\n",
    "    Retorna:\n",
    "    raices (list): Una lista de las raíces encontradas.\n",
    "    \"\"\"\n",
    "    raices = []\n",
    "    dF = derivar_funcion(Funcion)\n",
    "\n",
    "    for suposicion_inicial in suposiciones_iniciales:\n",
    "        x = suposicion_inicial\n",
    "\n",
    "        # Evita la división por cero\n",
    "        if abs(dF(x)) < 1e-10:\n",
    "            continue\n",
    "\n",
    "        for _ in range(max_iter):\n",
    "            x_new = x - Funcion(x) / dF(x)\n",
    "            if abs(x_new - x) < tol:\n",
    "                raices.append(x_new)\n",
    "                break\n",
    "            x = x_new\n",
    "        else:\n",
    "            raise ValueError(f\"El método de Newton-Raphson no convergió para la suposición inicial {suposicion_inicial}.\")\n",
    "\n",
    "    return raices\n",
    "    \n",
    "# Define la función\n",
    "def funcion_ejemplo(x):\n",
    "    return (3*x**5) + (5*x**4) - (x**3)\n",
    "\n",
    "\"\"\"\n",
    "Tolerancia = Tolerancia del criterio de parada (Hasta que decimal busca)\n",
    "Num_iteraciones = Número máximo de iteraciones por raíz (Cantidad de veces que busca una raiz)\n",
    "Tolerancia_filtos = Elimina cualquier cantidad de raices que sean diferentes en apenas sus ultimos decimales\n",
    "                    (Los ultimos 1e^n decimales) \n",
    "\"\"\"\n",
    "tolerancia = 1e-9\n",
    "Num_iteraciones = 100\n",
    "tolerancia_filtros = 1e1\n",
    "\n",
    "# Rango en el que buscar raíces\n",
    "rango = (-100, 100)  # Modificado para evitar valores cercanos a cero en el rango\n",
    "\n",
    "# Valores que sean posibles raíces\n",
    "suposiciones_iniciales = [-10.0, 5.0, 3.0]  # Modificado para evitar el valor 0\n",
    "\n",
    "try:\n",
    "    # Encuentra las raíces en el rango usando el método de Newton-Raphson\n",
    "    raices_rango = Hallar_raices_rango(funcion_ejemplo, rango,tolerancia,Num_iteraciones)\n",
    "\n",
    "    # Encuentra las raíces cerca de las suposiciones\n",
    "    raices_supuestas = Hallar_raices_suponiendo(funcion_ejemplo, suposiciones_iniciales,tolerancia,Num_iteraciones)\n",
    "\n",
    "    # Filtra las raíces que han convergido (tolerancia baja)\n",
    "    raices_convergentes_rango = [raiz for raiz in raices_rango if abs(funcion_ejemplo(raiz)) < tolerancia_filtros]\n",
    "    raices_convergentes_supuestas = [raiz for raiz in raices_supuestas if abs(funcion_ejemplo(raiz)) < tolerancia_filtros]\n",
    "\n",
    "    print(f\"Raíces convergentes encontradas en el rango: {raices_convergentes_rango}\")\n",
    "    print(f\"Raíces convergentes encontradas cerca de las suposiciones: {raices_convergentes_supuestas}\")\n",
    "except ValueError as e:\n",
    "    print(e)"
   ]
  },
  {
   "cell_type": "markdown",
   "metadata": {},
   "source": [
    "## Interpolación de Lagrange\n",
    "### Problema 4\n",
    "En el lanzamiento de una bala, una cámara fotográfica registra las siguientes posiciones en metros respecto al arma homicida (tome $g = -9.8 m/s^2 \\hat{j}$):\n",
    "https://raw.githubusercontent.com/asegura4488/Database/main/MetodosComputacionalesReforma/Parabolico.csv\n",
    "\n",
    "Estime el vector velocidad inicial, que estará definido por la magnitud y dirección. Rpta: $V_{0}=10 m/s$ y $\\theta=20º$. Hint: Encuentre el termino lineal y cuadrático de la interpolación y compare con la ecuación de trayectoria de la bala."
   ]
  },
  {
   "cell_type": "code",
   "execution_count": 154,
   "metadata": {},
   "outputs": [
    {
     "data": {
      "image/png": "[encoded data removed]",
      "text/plain": [
       "<Figure size 432x288 with 1 Axes>"
      ]
     },
     "metadata": {
      "needs_background": "light"
     },
     "output_type": "display_data"
    }
   ],
   "source": [
    "X=np.array([1.4, 3.5, 5.6])\n",
    "Y=np.array([0.4007954931819738, 0.594128102489774, 0.29802795523938164])\n",
    "\n",
    "def Lagrange(x,X,i):\n",
    "    L = 1\n",
    "    \n",
    "    for j in range(X.shape[0]):\n",
    "        if i != j:\n",
    "            L *= (x - X[j])/(X[i]-X[j])\n",
    "    return L\n",
    "\n",
    "def Interpolate(x,X,Y):\n",
    "    Poly = 0\n",
    "    \n",
    "    for i in range(X.shape[0]):\n",
    "        Poly += Lagrange(x,X,i)*Y[i]\n",
    "        \n",
    "    return Poly\n",
    "\n",
    "x=np.linspace(1.4,5.6,100)\n",
    "funcion=Interpolate(x,X,Y)\n",
    "\n",
    "_x = sym.Symbol('x',real=True)\n",
    "BasesCardinales = []\n",
    "for i in range(X.shape[0]):\n",
    "    BasesCardinales.append(Lagrange(_x,X,i))\n",
    "BasesCardinales\n",
    "\n",
    "_y=Interpolate(_x,X,Y)\n",
    "\n",
    "f=sym.simplify(_y)\n",
    "f\n",
    "\n",
    "plt.plot(x,funcion)\n",
    "plt.scatter(X,Y,color=\"red\",s=25)\n",
    "plt.title(\"Desplazamiento del proyectil\")\n",
    "plt.xlabel(\"x (m)\")\n",
    "plt.ylabel(\"y (m)\")\n",
    "plt.grid(True)"
   ]
  },
  {
   "cell_type": "code",
   "execution_count": 49,
   "metadata": {},
   "outputs": [
    {
     "data": {
      "text/latex": [
       "$\\displaystyle x \\left(0.363970234266202 - 0.0554912422401579 x\\right)$"
      ],
      "text/plain": [
       "x*(0.363970234266202 - 0.0554912422401579*x)"
      ]
     },
     "execution_count": 49,
     "metadata": {},
     "output_type": "execute_result"
    }
   ],
   "source": [
    "xu = sym.Symbol('x',real=True)\n",
    "fu = sym.simplify(Interpolate(xu,X,Y))\n",
    "fu"
   ]
  },
  {
   "cell_type": "code",
   "execution_count": 50,
   "metadata": {},
   "outputs": [],
   "source": [
    "lineal = 0.36397\n",
    "cuad = -0.05549\n",
    "g = -9.8"
   ]
  },
  {
   "cell_type": "markdown",
   "metadata": {},
   "source": [
    "La ecuación del movimiento de proyectiles está dada por\n",
    "$$\n",
    "y(x)=tan(\\theta)+\\frac{g}{2V_{o}^2cos(\\theta)^2}\n",
    "$$\n",
    "\n",
    "#### Vector velocidad\n",
    "El segundo término corresponde al término cuadrático de la interpolación (b). Es decir\n",
    "$$\n",
    "b=\\frac{g}{2V_{o}^2cos(\\theta)^2}\\\\\n",
    "V_{o}^2=\\frac{g}{2bcos(\\theta)^2}\\\\\n",
    "V_{o}= \\sqrt{\\frac{g}{2bcos(\\theta)^2}}\n",
    "$$\n",
    "\n",
    "#### Ángulo de tiro\n",
    "El primer término corresponde al término lineal de la interpolación (a). Es decir\n",
    "$$\n",
    "a=tan(\\theta)\\\\\n",
    "a=tan(\\theta)=\\frac{y}{x}\\\\\n",
    "a=\\frac{y}{x}\n",
    "$$"
   ]
  },
  {
   "cell_type": "code",
   "execution_count": 59,
   "metadata": {},
   "outputs": [
    {
     "name": "stdout",
     "output_type": "stream",
     "text": [
      "La velocidad inicial del proyectil tiene un valor de 10.0 m/s con un ángulo de 20.0 º\n"
     ]
    }
   ],
   "source": [
    "theta=np.arctan(lineal)\n",
    "theta_grad=np.degrees(theta)\n",
    "theta_grad=round(theta_grad, 1)\n",
    "\n",
    "\n",
    "coseno=np.cos(theta)\n",
    "coseno **=2\n",
    "vel=np.sqrt(g/(2*cuad*coseno))\n",
    "vel=round(vel,1)\n",
    "\n",
    "print(\"La velocidad inicial del proyectil tiene un valor de\", vel, \"m/s con un ángulo de\", theta_grad, \"º\")"
   ]
  }
 ],
 "metadata": {
  "kernelspec": {
   "display_name": "base",
   "language": "python",
   "name": "python3"
  },
  "language_info": {
   "codemirror_mode": {
    "name": "ipython",
    "version": 3
   },
   "file_extension": ".py",
   "mimetype": "text/x-python",
   "name": "python",
   "nbconvert_exporter": "python",
   "pygments_lexer": "ipython3",
   "version": "3.9.7"
  },
  "orig_nbformat": 4
 },
 "nbformat": 4,
 "nbformat_minor": 2
}
