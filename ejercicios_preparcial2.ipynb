{
 "cells": [
  {
   "cell_type": "code",
   "execution_count": 3,
   "metadata": {},
   "outputs": [],
   "source": [
    "import matplotlib.pyplot as plt\n",
    "import math\n",
    "import numpy as np\n",
    "import random"
   ]
  },
  {
   "cell_type": "markdown",
   "metadata": {},
   "source": [
    "# Ejercicios: Generales de probabilidad"
   ]
  },
  {
   "cell_type": "markdown",
   "metadata": {},
   "source": [
    "## Problema de Probabilidad\n",
    "\n",
    "Calcular la probabilidad de que n personas (n < 365) tengan diferentes días de cumpleaños, es decir, escribir la fórmula general de cálculo. Grafique la probabilidad P(n < 80) como función de n. Los números son demasiado grandes, pero Python puede manejar dichas cantidades."
   ]
  },
  {
   "cell_type": "code",
   "execution_count": 2,
   "metadata": {},
   "outputs": [
    {
     "data": {
      "image/png": "[encoded data removed]",
      "text/plain": [
       "<Figure size 432x288 with 1 Axes>"
      ]
     },
     "metadata": {
      "needs_background": "light"
     },
     "output_type": "display_data"
    }
   ],
   "source": [
    "# Calcula la combinación C(n, k)\n",
    "def comb(n, k):\n",
    "    return math.factorial(n) / (math.factorial(k) * math.factorial(n-k))\n",
    "\n",
    "# Calcula la probabilidad P(n)\n",
    "def prob(n):\n",
    "    return comb(365, n) / (365 ** n)\n",
    "\n",
    "# Crea una lista de n valores\n",
    "n_values = list(range(1, 80))\n",
    "\n",
    "# Calcula la probabilidad P(n) para cada n en la lista\n",
    "prob_values = [prob(n) for n in n_values]\n",
    "\n",
    "# Grafica la probabilidad P(n) como función de n\n",
    "plt.plot(n_values, prob_values)\n",
    "plt.xlabel('n')\n",
    "plt.ylabel('P(n)')\n",
    "plt.title('Probabilidad de que n personas tengan diferentes días de cumpleaños')\n",
    "plt.grid(True)\n",
    "plt.show()"
   ]
  },
  {
   "cell_type": "markdown",
   "metadata": {},
   "source": [
    "## Problema de Probabilidad\n",
    "\n",
    "8. Se lanzaron simultáneamente 4 monedas. Determine la probabilidad de obtener dos caras y dos sellos [P(A) = 3/8]. Realice el cálculo de esta probabilidad usando un experimento virtual con N = 10^6 eventos, etiquetando los resultados como [1, -1] para cara y sello respectivamente."
   ]
  },
  {
   "cell_type": "code",
   "execution_count": 4,
   "metadata": {},
   "outputs": [
    {
     "name": "stdout",
     "output_type": "stream",
     "text": [
      "Probabilidad estimada de obtener dos caras y dos sellos: 0.374792\n"
     ]
    }
   ],
   "source": [
    "def simulate_experiment(N):\n",
    "    events = []\n",
    "    for _ in range(N):\n",
    "        event = sum([random.choice([1, -1]) for _ in range(4)])\n",
    "        events.append(event)\n",
    "    return events\n",
    "\n",
    "N = 10**6\n",
    "events = simulate_experiment(N)\n",
    "\n",
    "two_heads_two_tails = events.count(0)\n",
    "\n",
    "probability = two_heads_two_tails / N\n",
    "\n",
    "print(\"Probabilidad estimada de obtener dos caras y dos sellos:\", probability)"
   ]
  }
 ],
 "metadata": {
  "kernelspec": {
   "display_name": "base",
   "language": "python",
   "name": "python3"
  },
  "language_info": {
   "codemirror_mode": {
    "name": "ipython",
    "version": 3
   },
   "file_extension": ".py",
   "mimetype": "text/x-python",
   "name": "python",
   "nbconvert_exporter": "python",
   "pygments_lexer": "ipython3",
   "version": "3.8.5"
  }
 },
 "nbformat": 4,
 "nbformat_minor": 2
}
