{
 "cells": [
  {
   "cell_type": "markdown",
   "metadata": {},
   "source": [
    "# Parcial 2\n",
    "**Juana Valeria Pinzon. 202112577\n",
    "Alan Romero. 202212891**"
   ]
  },
  {
   "cell_type": "markdown",
   "metadata": {},
   "source": [
    "### 23"
   ]
  },
  {
   "cell_type": "code",
   "execution_count": 40,
   "metadata": {},
   "outputs": [
    {
     "name": "stdout",
     "output_type": "stream",
     "text": [
      "Resultado de la integral del numerador: 5.495632917282498e-69\n"
     ]
    }
   ],
   "source": [
    "import numpy as np\n",
    "from scipy.special import roots_laguerre\n",
    "\n",
    "\n",
    "h = 6.626e-34\n",
    "k_B = 1.3806e-23\n",
    "T = 5772  \n",
    "\n",
    "def integrando_laguerre(x):\n",
    "    return (8*np.pi/(c**3)) * (h*(x/c)**3) / (np.exp(h*x/(k_B*T))-1)\n",
    "\n",
    "\n",
    "N = 20\n",
    "raices, pesos = roots_laguerre(N)\n",
    "\n",
    "\n",
    "integral_numerador = np.sum(pesos * integrando_laguerre(raices))\n",
    "\n",
    "print(\"Resultado de la integral del numerador:\", integral_numerador)\n"
   ]
  },
  {
   "cell_type": "markdown",
   "metadata": {},
   "source": [
    "(b)"
   ]
  },
  {
   "cell_type": "code",
   "execution_count": 41,
   "metadata": {},
   "outputs": [
    {
     "name": "stdout",
     "output_type": "stream",
     "text": [
      "Resultado de la integral del denominador: 0.4939394022197445\n"
     ]
    }
   ],
   "source": [
    "def integrando_denominador_laguerre(x):\n",
    "    return (x**3) / (np.exp(x) - 1)\n",
    "\n",
    "integral_denominador = np.sum(pesos * integrando_denominador_laguerre(raices))\n",
    "\n",
    "print(\"Resultado de la integral del denominador:\", integral_denominador)\n"
   ]
  },
  {
   "cell_type": "markdown",
   "metadata": {},
   "source": [
    "(c) Los valores numéricos de los límites de integración del numerador son:\n",
    "\n",
    "$$\\frac{h \\nu_0}{k_B T} = \\frac{6.626 \\times 10^{-34} \\text{ J s} \\times 3 \\times 10^8 \\text{ m/s}}{1.3806 \\times 10^{-23} \\text{ J/K} \\times 5772 \\text{ K}} = 3.48 \\times 10^{10} \\text{ Hz}$$\n",
    "\n",
    "$$\\frac{h \\nu_1}{k_B T} = \\frac{6.626 \\times 10^{-34} \\text{ J s} \\times 3 \\times 10^8 \\text{ m/s}}{1.3806 \\times 10^{-23} \\text{ J/K} \\times 5772 \\text{ K}} = 1.39 \\times 10^{11} \\text{ Hz}$$"
   ]
  },
  {
   "cell_type": "markdown",
   "metadata": {},
   "source": [
    "(d)"
   ]
  },
  {
   "cell_type": "code",
   "execution_count": 43,
   "metadata": {},
   "outputs": [
    {
     "name": "stdout",
     "output_type": "stream",
     "text": [
      "Fracción de rayos UV (f): 1.1126127805527027e-68\n"
     ]
    }
   ],
   "source": [
    "\n",
    "fraccion = integral_numerador / integral_denominador\n",
    "\n",
    "print(\"Fracción de rayos UV (f):\", fraccion)\n"
   ]
  },
  {
   "cell_type": "markdown",
   "metadata": {},
   "source": [
    "(e) La diferencia puede deberse a varios factores. Sin embargo, el más importante de ellos podría ser el hecho de que las mediciones del IDEAM son observaciones directas, mientras que el cálculo de la fracción de rayos UV es una estimación teórica según un modelo. Por lo tanto, no es difícil pensar que las mediciones reales pueden diferir de las estimaciones teóricas debido a incertidumbres y errores tanto en las mediciones como en el modelo. Además, se debe tener en cuenta que la cantidad de radiación UV que llega a la superficie puede variar con el tiempo y con la ubicación. Así, se tiene que el IDEAM realiza mediciones específicas para Bogotá, mientras que el cálculo de la fracción de rayos UV se realiza mediante un modelo más general, lo que puede dar lugar a ciertas discrepancias."
   ]
  }
 ],
 "metadata": {
  "kernelspec": {
   "display_name": "base",
   "language": "python",
   "name": "python3"
  },
  "language_info": {
   "codemirror_mode": {
    "name": "ipython",
    "version": 3
   },
   "file_extension": ".py",
   "mimetype": "text/x-python",
   "name": "python",
   "nbconvert_exporter": "python",
   "pygments_lexer": "ipython3",
   "version": "3.8.5"
  },
  "orig_nbformat": 4
 },
 "nbformat": 4,
 "nbformat_minor": 2
}
